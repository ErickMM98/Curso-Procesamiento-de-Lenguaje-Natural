{
 "cells": [
  {
   "cell_type": "markdown",
   "metadata": {},
   "source": [
    "# Algoritmo de CYK"
   ]
  },
  {
   "cell_type": "code",
   "execution_count": 1,
   "metadata": {},
   "outputs": [],
   "source": [
    "import pandas as pd"
   ]
  },
  {
   "cell_type": "code",
   "execution_count": 2,
   "metadata": {},
   "outputs": [],
   "source": [
    "def cykParse(w): \n",
    "    #Longitud de la cadena\n",
    "    n = len(w) \n",
    "    #Generar tabla vacía\n",
    "    T = [[[] for j in range(n)] for i in range(n)] \n",
    "  \n",
    "    #Recorre la cadena\n",
    "    for j in range(0, n):  \n",
    "        #Revisa todas las reglas X \\to r \n",
    "        for X, r in R.items(): \n",
    "            #Revisa los elementos que puede generar la regla\n",
    "            for Y in r: \n",
    "                #Si es terminal \n",
    "                if len(Y) == 1 and Y[0] == w[j]: \n",
    "                    #Agrega las X que generan w_j\n",
    "                    T[j][j].append(X)\n",
    "  \n",
    "        #Para i de j, j-1, j-2,...,0\n",
    "        for i in range(j, -1, -1):     \n",
    "            #En cada i revisa los elementos que le siguen\n",
    "            #a la derecha hasta el final j+1\n",
    "            for k in range(i, j+1):      \n",
    "                #Revisa las reglas \n",
    "                for X, r in R.items(): \n",
    "                    #Revisa lo que generan\n",
    "                    for Y in r:                           \n",
    "                        #Si no es terminal (Y=2)\n",
    "                        #Si Y_0 en T[i.k] y Y_1 in T[k,j]\n",
    "                        if len(Y) == 2 and Y[0] in T[i][k] and Y[1] in T[k+1][j]:\n",
    "                            T[i][j].append(X)\n",
    "        \n",
    "    return T"
   ]
  },
  {
   "cell_type": "markdown",
   "metadata": {},
   "source": [
    "### Definición de la gramática\n",
    "\n",
    "La gramática debe constar de reglas en la forma normal de Chosmsky:"
   ]
  },
  {
   "cell_type": "code",
   "execution_count": 3,
   "metadata": {},
   "outputs": [],
   "source": [
    "#No terminales\n",
    "non_terminals = [\"O\", \"NN\", \"Art\", \"FAdj\",  \n",
    "                  \"Adv\", \"Adj\"] \n",
    "#Terminales\n",
    "terminals = [\"libro\", \"naranja\", \"hombre\",  \n",
    "             \"alto\", \"pesado\",  \n",
    "             \"muy\", \"muscular\"] \n",
    "  \n",
    "#Reglas\n",
    "R = { \n",
    "     \"O\": [[\"Art\", \"NN\"]], \n",
    "     \"NN\": [[\"FAdj\", \"NN\"], [\"libro\"], [\"naranja\"], [\"hombre\"]], \n",
    "     \"FAdj\": [[\"Adv\", \"Adj\"], [\"pesado\"], [\"naranja\"], [\"alto\"]], \n",
    "     \"Art\": [[\"un\"]], \n",
    "     \"Adv\": [[\"muy\"]], \n",
    "     \"Adj\": [[\"pesado\"], [\"naranja\"], [\"alto\"], [\"muscular\"]] \n",
    "    } \n",
    "  "
   ]
  },
  {
   "cell_type": "markdown",
   "metadata": {},
   "source": [
    "La gramática que hemos definido es de la forma:\n",
    "\n",
    "\\begin{align}\n",
    "    O &\\to Art \\cdot NN \\\\\n",
    "    NN &\\to FAdj \\cdot NN | libro | naranja | hombre \\\\\n",
    "    FAdj &\\to Adv \\cdot Adj | pesado | naranja | alto \\\\\n",
    "    Art &\\to un \\\\\n",
    "    Adv &\\to muy \\\\\n",
    "    Adj &\\to pesado | naranja | alto | muscular\n",
    "\\end{align}"
   ]
  },
  {
   "cell_type": "markdown",
   "metadata": {},
   "source": [
    "Podemos aplicarlo a una cadena específica:"
   ]
  },
  {
   "cell_type": "code",
   "execution_count": 6,
   "metadata": {},
   "outputs": [
    {
     "data": {
      "text/html": [
       "<div>\n",
       "<style scoped>\n",
       "    .dataframe tbody tr th:only-of-type {\n",
       "        vertical-align: middle;\n",
       "    }\n",
       "\n",
       "    .dataframe tbody tr th {\n",
       "        vertical-align: top;\n",
       "    }\n",
       "\n",
       "    .dataframe thead th {\n",
       "        text-align: right;\n",
       "    }\n",
       "</style>\n",
       "<table border=\"1\" class=\"dataframe\">\n",
       "  <thead>\n",
       "    <tr style=\"text-align: right;\">\n",
       "      <th></th>\n",
       "      <th>un</th>\n",
       "      <th>m</th>\n",
       "      <th>pesado</th>\n",
       "      <th>libro</th>\n",
       "    </tr>\n",
       "  </thead>\n",
       "  <tbody>\n",
       "    <tr>\n",
       "      <th>un</th>\n",
       "      <td>[Art]</td>\n",
       "      <td>[]</td>\n",
       "      <td>[]</td>\n",
       "      <td>[]</td>\n",
       "    </tr>\n",
       "    <tr>\n",
       "      <th>m</th>\n",
       "      <td>[]</td>\n",
       "      <td>[]</td>\n",
       "      <td>[]</td>\n",
       "      <td>[]</td>\n",
       "    </tr>\n",
       "    <tr>\n",
       "      <th>pesado</th>\n",
       "      <td>[]</td>\n",
       "      <td>[]</td>\n",
       "      <td>[FAdj, Adj]</td>\n",
       "      <td>[NN]</td>\n",
       "    </tr>\n",
       "    <tr>\n",
       "      <th>libro</th>\n",
       "      <td>[]</td>\n",
       "      <td>[]</td>\n",
       "      <td>[]</td>\n",
       "      <td>[NN]</td>\n",
       "    </tr>\n",
       "  </tbody>\n",
       "</table>\n",
       "</div>"
      ],
      "text/plain": [
       "           un   m       pesado libro\n",
       "un      [Art]  []           []    []\n",
       "m          []  []           []    []\n",
       "pesado     []  []  [FAdj, Adj]  [NN]\n",
       "libro      []  []           []  [NN]"
      ]
     },
     "execution_count": 6,
     "metadata": {},
     "output_type": "execute_result"
    }
   ],
   "source": [
    "w = \"un m pesado libro\".split() \n",
    "\n",
    "pd.DataFrame(data=cykParse(w), index=w, columns=w)"
   ]
  },
  {
   "cell_type": "markdown",
   "metadata": {},
   "source": [
    "Adaptado de: https://www.geeksforgeeks.org/cocke-younger-kasami-cyk-algorithm/"
   ]
  }
 ],
 "metadata": {
  "kernelspec": {
   "display_name": "Python 3",
   "language": "python",
   "name": "python3"
  },
  "language_info": {
   "codemirror_mode": {
    "name": "ipython",
    "version": 3
   },
   "file_extension": ".py",
   "mimetype": "text/x-python",
   "name": "python",
   "nbconvert_exporter": "python",
   "pygments_lexer": "ipython3",
   "version": "3.8.8"
  }
 },
 "nbformat": 4,
 "nbformat_minor": 4
}
