{
 "cells": [
  {
   "cell_type": "markdown",
   "metadata": {},
   "source": [
    "# Neural Probabilistic Language Model"
   ]
  },
  {
   "cell_type": "markdown",
   "metadata": {},
   "source": [
    "Vamos a construir un modelo probabilístico a partir de la arquitectura neuronal propuesta por Bengio (2003). En primer lugar, definimos las funciones necesarias para indexar las palabras en el corpus."
   ]
  },
  {
   "cell_type": "code",
   "execution_count": 1,
   "metadata": {},
   "outputs": [],
   "source": [
    "#-*- encoding:utf-8 -*-\n",
    "import numpy as np\n",
    "from collections import defaultdict, Counter\n",
    "#from preprocessing import preprocess\n",
    "from itertools import chain\n",
    "\n",
    "#Funcion que crea un vocabulario de palabras con un indice numerico\n",
    "def vocab():\n",
    "    vocab = defaultdict()\n",
    "    vocab.default_factory = lambda: len(vocab)\n",
    "    return vocab    \n",
    "\n",
    "#Funcion que pasa la cadena de simbolos a una secuencia con indices numericos\n",
    "def text2numba(corpus, vocab):\n",
    "    for doc in corpus:\n",
    "        yield [vocab[w] for w in doc.split()]"
   ]
  },
  {
   "cell_type": "markdown",
   "metadata": {
    "collapsed": true
   },
   "source": [
    "A partir de un corpus de cadenas, construimos el vocabulario indexado y las cadenas de índices."
   ]
  },
  {
   "cell_type": "code",
   "execution_count": 2,
   "metadata": {},
   "outputs": [
    {
     "name": "stdout",
     "output_type": "stream",
     "text": [
      "[[0, 1, 2, 3, 4], [3, 5, 6], [0, 5, 7, 8, 9], [3, 1, 2, 10]]\n"
     ]
    }
   ],
   "source": [
    "corpus = ['el perro come un hueso', 'un muchacho jugaba', 'el muchacho saltaba la cuerda',\n",
    "          'un perro come croquetas']\n",
    "\n",
    "#Llamamos la funcion para crear el vocabulario\n",
    "idx = vocab()\n",
    "#Creamos el vocabulario y le asignamos un indice a cada simbolo segun su aparicion\n",
    "cads_idx = list(text2numba(corpus,idx))\n",
    "\n",
    "print(cads_idx)"
   ]
  },
  {
   "cell_type": "markdown",
   "metadata": {},
   "source": [
    "A cada cadena le agregamos una etiqueta BOS (Beginning of String) y una etiqueta EOS (End of String). Se agregan al vocabulario y se indexan."
   ]
  },
  {
   "cell_type": "code",
   "execution_count": 14,
   "metadata": {},
   "outputs": [
    {
     "name": "stdout",
     "output_type": "stream",
     "text": [
      "defaultdict(<function vocab.<locals>.<lambda> at 0x7f80dc081ee0>, {'el': 0, 'perro': 1, 'come': 2, 'un': 3, 'hueso': 4, 'muchacho': 5, 'jugaba': 6, 'saltaba': 7, 'la': 8, 'cuerda': 9, 'croquetas': 10, '<EOS>': 13, '<BOS>': 14})\n"
     ]
    }
   ],
   "source": [
    "#Indicamos las etiquetas a usar\n",
    "EOS = '<EOS>'\n",
    "BOS = '<BOS>'\n",
    "\n",
    "#Cada etiqeuta se le asigna un indice numerico\n",
    "BOS_IDX = max(idx.values())+2\n",
    "EOS_IDX = max(idx.values())+1\n",
    "\n",
    "#Se agregan estas etiqeutas al vocabulario\n",
    "idx[EOS] = EOS_IDX\n",
    "idx[BOS] = BOS_IDX\n",
    "\n",
    "#A cada cadena se le agrega la etiqueta BOS al inicio y EOS al final\n",
    "cadenas = [[BOS_IDX] + cad + [EOS_IDX] for cad in cads_idx]\n",
    "\n",
    "#Se obtiene la longitud del alfabeto\n",
    "N = len(idx)\n",
    "\n",
    "print(idx)"
   ]
  },
  {
   "cell_type": "markdown",
   "metadata": {},
   "source": [
    "A partir de las cadenas se obtienen los bigramas"
   ]
  },
  {
   "cell_type": "code",
   "execution_count": 4,
   "metadata": {},
   "outputs": [
    {
     "name": "stdout",
     "output_type": "stream",
     "text": [
      "[(12, 0), (0, 1), (1, 2), (2, 3), (3, 4), (4, 11), (12, 3), (3, 5), (5, 6), (6, 11), (12, 0), (0, 5), (5, 7), (7, 8), (8, 9), (9, 11), (12, 3), (3, 1), (1, 2), (2, 10), (10, 11)]\n"
     ]
    }
   ],
   "source": [
    "#Se crean los bigramas\n",
    "bigrams = list(chain(*[zip(cad,cad[1:]) for cad in cadenas]))\n",
    "\n",
    "#Se obtiene la frecuencia de cada bigrama\n",
    "frecBigrams = Counter(bigrams)\n",
    "\n",
    "print(bigrams)"
   ]
  },
  {
   "cell_type": "markdown",
   "metadata": {},
   "source": [
    "Ahora se inicializan los parámetros necesarios para entrenar el modelo."
   ]
  },
  {
   "cell_type": "code",
   "execution_count": 5,
   "metadata": {},
   "outputs": [],
   "source": [
    "np.random.seed(0)\n",
    "#El número de rasgos que representan cada vector\n",
    "nn_input_dim = N\n",
    "#El total de clases que arrojará\n",
    "output_dim = N\n",
    "#El número de ejmplos\n",
    "num_examples = len(bigrams)\n",
    "\n",
    "#Dimensiones de los vectores-palabra\n",
    "dim = 300\n",
    "nn_hdim = 100\n",
    "\n",
    "#Embedding\n",
    "C = np.random.randn(dim,N) / np.sqrt(N)\n",
    "\n",
    "#Capa oculta\n",
    "U = np.random.randn(nn_hdim,dim) / np.sqrt(dim)\n",
    "b = np.zeros((1, nn_hdim))\n",
    "\n",
    "#Capa de salida\n",
    "W = np.random.randn(N-1,nn_hdim) / np.sqrt(nn_hdim)\n",
    "c = np.zeros((1, N-1))"
   ]
  },
  {
   "cell_type": "markdown",
   "metadata": {
    "collapsed": true
   },
   "source": [
    "Se entrena el modelo. Para esto, se define un número de iteraciones y un rango de aprendizaje. Se utiliza backpropagation y gradient descent."
   ]
  },
  {
   "cell_type": "code",
   "execution_count": 6,
   "metadata": {},
   "outputs": [],
   "source": [
    "its = 100\n",
    "eta = 0.1\n",
    "for i in range(0,its):\n",
    "    for ex in bigrams:\n",
    "        #Forward\n",
    "        #Embedimiento\n",
    "        c_w = C.T[ex[0]]\n",
    "        #capa oculta\n",
    "        h1 = np.tanh(np.dot(U,c_w) + b)[0]\n",
    "        #salida\n",
    "        out = np.exp(np.dot(W,h1) + c)[0]\n",
    "        #Softmax\n",
    "        f = out/out.sum(0)\n",
    "\n",
    "        #Backprop\n",
    "        #Variable de salida\n",
    "        d_out = f\n",
    "        d_out[ex[1]] -= 1\n",
    "        \n",
    "        #Variable para la capa oculta\n",
    "        d_tanh = (1-h1**2)*np.dot(W.T,d_out)\n",
    "        \n",
    "        #Variable de embedding\n",
    "        d_emb = np.dot(U.T,d_tanh)\n",
    "\n",
    "        #Actualizacion de salida\n",
    "        W -= eta*np.outer(d_out,h1)\n",
    "        #Actualiza bias de salida\n",
    "        c -= eta*d_out #[j]\n",
    "\n",
    "        #Actualizacion de capa oculta\n",
    "        U -= eta*np.outer(d_tanh,c_w)\n",
    "        #Actualiza bias\n",
    "        b -= eta*d_tanh\n",
    "\n",
    "        #Actualizacion de embedding\n",
    "        C.T[ex[0]] -= eta*d_emb\n"
   ]
  },
  {
   "cell_type": "markdown",
   "metadata": {},
   "source": [
    "Ahora definirmos una función forward que va a obtener las probabilidades dada una palaba."
   ]
  },
  {
   "cell_type": "code",
   "execution_count": 33,
   "metadata": {},
   "outputs": [],
   "source": [
    "#Forward\n",
    "def forward(x):    \n",
    "    #Embedimiento\n",
    "    c_w = C.T[x]\n",
    "    #print c_w.shape, U.T.shape\n",
    "    h1 = np.tanh(np.dot(U,c_w) + b)[0]\n",
    "    #print h1 #W.shape, h1.shape\n",
    "    out = np.exp(np.dot(W,h1) + c)[0]\n",
    "    #print out\n",
    "    p = out/out.sum(0)\n",
    "    return p"
   ]
  },
  {
   "cell_type": "markdown",
   "metadata": {},
   "source": [
    "Ahora que hemos entrenado el modelo, podemos obtener la probabilidad para cualquier par de palabras."
   ]
  },
  {
   "cell_type": "code",
   "execution_count": 34,
   "metadata": {},
   "outputs": [
    {
     "name": "stdout",
     "output_type": "stream",
     "text": [
      "0.0007059253174156483\n"
     ]
    }
   ],
   "source": [
    "#p(muchacho|el)\n",
    "print(forward(idx['el'])[idx['come']])"
   ]
  },
  {
   "cell_type": "markdown",
   "metadata": {},
   "source": [
    "Los bigramas pocos frecuentes tendrán baja probabilidad."
   ]
  },
  {
   "cell_type": "code",
   "execution_count": 9,
   "metadata": {},
   "outputs": [
    {
     "name": "stdout",
     "output_type": "stream",
     "text": [
      "0.000875010814750372\n"
     ]
    }
   ],
   "source": [
    "#p(la|el)\n",
    "print(forward(idx['el'])[idx['la']])"
   ]
  },
  {
   "cell_type": "markdown",
   "metadata": {},
   "source": [
    "Y podemos obtener todo el vector de probabilidades dada una palabra. Por ejemplo, para obtener el vector de probabilidades iniciales:"
   ]
  },
  {
   "cell_type": "code",
   "execution_count": 10,
   "metadata": {},
   "outputs": [
    {
     "name": "stdout",
     "output_type": "stream",
     "text": [
      "el 0.45026061279556845\n",
      "perro 0.0009078171758437343\n",
      "come 0.002067966673481341\n",
      "un 0.5271298091543354\n",
      "hueso 0.0004072343023013904\n",
      "muchacho 0.0013439767221951164\n",
      "jugaba 0.0016298505849492828\n",
      "saltaba 0.0016255579738904998\n",
      "la 0.001485555330490056\n",
      "cuerda 0.0017501505776457392\n",
      "croquetas 0.009628911811224916\n",
      "<EOS> 0.0017625568980738748\n"
     ]
    }
   ],
   "source": [
    "for word in idx.keys():\n",
    "    if word != '<BOS>':\n",
    "        print(word,forward(idx['<BOS>'])[idx[word]])"
   ]
  },
  {
   "cell_type": "markdown",
   "metadata": {
    "collapsed": true
   },
   "source": [
    "Y podemos comprobar que se trata de una probabilidad, pues su suma es 1."
   ]
  },
  {
   "cell_type": "code",
   "execution_count": 11,
   "metadata": {},
   "outputs": [
    {
     "name": "stdout",
     "output_type": "stream",
     "text": [
      "0.9999999999999998\n"
     ]
    }
   ],
   "source": [
    "print(forward(idx['<BOS>']).sum(0))"
   ]
  },
  {
   "cell_type": "markdown",
   "metadata": {},
   "source": [
    "Ahora bien, una de las ventajas de este modelo es que tiene una capa de \"embedding\". En este sentido, las palabras quedan codificadas a partir de vectores en un espacio vectorial. Podemos ver cómo se comportan estos vectores."
   ]
  },
  {
   "cell_type": "code",
   "execution_count": 12,
   "metadata": {},
   "outputs": [],
   "source": [
    "import matplotlib.pyplot as plt\n",
    "from sklearn.decomposition import PCA\n",
    "from operator import itemgetter\n",
    "\n",
    "def plot_words(Z,ids):\n",
    "    Z = PCA(2).fit_transform(Z)\n",
    "    r=0\n",
    "    plt.scatter(Z[:,0],Z[:,1], marker='o', c='blue')\n",
    "    for label,x,y in zip(ids, Z[:,0], Z[:,1]):\n",
    "        plt.annotate(label, xy=(x,y), xytext=(-1,1), textcoords='offset points', ha='center', va='bottom')\n",
    "        r+=1\n",
    "    plt.show()"
   ]
  },
  {
   "cell_type": "markdown",
   "metadata": {},
   "source": [
    "Ahora ploteamos los vectores en un espacio de dos dimensiones."
   ]
  },
  {
   "cell_type": "code",
   "execution_count": 13,
   "metadata": {},
   "outputs": [
    {
     "data": {
      "image/png": "[encoded data removed]",
      "text/plain": [
       "<Figure size 432x288 with 1 Axes>"
      ]
     },
     "metadata": {
      "needs_background": "light"
     },
     "output_type": "display_data"
    }
   ],
   "source": [
    "label = [w[0] for w in sorted(idx.items(), key=itemgetter(1))]\n",
    "plot_words(C.T[:-2],label[:-2])"
   ]
  },
  {
   "cell_type": "markdown",
   "metadata": {
    "collapsed": true
   },
   "source": [
    "    "
   ]
  }
 ],
 "metadata": {
  "kernelspec": {
   "display_name": "Python 2",
   "language": "python",
   "name": "python2"
  },
  "language_info": {
   "codemirror_mode": {
    "name": "ipython",
    "version": 3
   },
   "file_extension": ".py",
   "mimetype": "text/x-python",
   "name": "python",
   "nbconvert_exporter": "python",
   "pygments_lexer": "ipython3",
   "version": "3.8.8"
  }
 },
 "nbformat": 4,
 "nbformat_minor": 2
}
