{
 "cells": [
  {
   "cell_type": "markdown",
   "metadata": {},
   "source": [
    "# Aplicación del modelo de lenguaje neuronal\n",
    "\n",
    "El modelo del lenguaje neuronal propuesto por Bengio (2003) es un modelo que estima probabilidades a partir de una red neuronal FeddForward. Como otros modelos, se puede entender como una tupla:\n",
    "\n",
    "$$\\mu = (\\Sigma, P)$$\n",
    "\n",
    "donde $\\Sigma$ es el vocabulario de palabras y $P = p(w_j|w_i)$ es la probabilidad de transición de $w_i$ a $w_j$. En este caso $P$ es una red FeedForward con una arquitectura constituida por:\n",
    "\n",
    "* Una capa de embedding.\n",
    "* Una capa oculta con activación $\\tanh$.\n",
    "* Una capa de salida con activación Softmax para obtener las probabilidades de transición.\n",
    "\n",
    "A continuación mostramos una aplicación del modelo. No mostramos el modelo que en este caso es un script (<i>LM_bengio</i>). Por tanto, importamos este script y la paqueteria necesaria."
   ]
  },
  {
   "cell_type": "code",
   "execution_count": 1,
   "metadata": {},
   "outputs": [],
   "source": [
    "#Script que contiene el modelo del lenguaje de Bengio\n",
    "from LM_Bengio import Model\n",
    "#Otros paquetes\n",
    "import numpy as np\n",
    "from collections import defaultdict, Counter\n",
    "from itertools import chain\n",
    "import matplotlib.pyplot as plt\n",
    "from sklearn.decomposition import PCA\n",
    "from operator import itemgetter"
   ]
  },
  {
   "cell_type": "markdown",
   "metadata": {},
   "source": [
    "Definimos tres funciones:\n",
    "\n",
    "* Función para crear el vocabulario: asocia índices numéricos a palabras\n",
    "* Función para asociar a cada elemento, una palabra\n",
    "* Función para  visualizar los embeddings por reducción de dimensionalidad con PCA"
   ]
  },
  {
   "cell_type": "code",
   "execution_count": 2,
   "metadata": {},
   "outputs": [],
   "source": [
    "#Funcion que crea un vocabulario de palabras con un indice numerico\n",
    "def vocab():\n",
    "    vocab = defaultdict()\n",
    "    vocab.default_factory = lambda: len(vocab)\n",
    "    return vocab    \n",
    "\n",
    "#Funcion que pasa la cadena de simbolos a una secuencia con indices numericos\n",
    "def text2numba(corpus, vocab):\n",
    "    for doc in corpus:\n",
    "        yield [vocab[w] for w in doc]\n",
    "\n",
    "#Función para visualizar los embeddings\n",
    "#Usa reducción de la dimensionalidad por PCA\n",
    "def plot_words(Z,ids):\n",
    "    Z = PCA(2).fit_transform(Z)\n",
    "    r=0\n",
    "    plt.scatter(Z[:,0],Z[:,1], marker='o', c='blue')\n",
    "    for label,x,y in zip(ids, Z[:,0], Z[:,1]):\n",
    "        plt.annotate(label, xy=(x,y), xytext=(-1,1), textcoords='offset points', ha='center', va='bottom')\n",
    "        r+=1\n",
    "    plt.show()"
   ]
  },
  {
   "cell_type": "markdown",
   "metadata": {},
   "source": [
    "### Preparación de los datos de entrenamiento\n",
    "\n",
    "Los datos de entrenamiento serán obtenidos de los bigramas de tal forma que:\n",
    "\n",
    "$$\\mathcal{S} = \\{(i,j) : (w_i,w_j) \\text{ es un bigrama}\\}$$\n",
    "\n",
    "En primer lugar creamos el vocabulario, indexamos las palabras, agregamos los símbolos de inicio, BOS, y final, EOS a cada cadena."
   ]
  },
  {
   "cell_type": "code",
   "execution_count": 3,
   "metadata": {},
   "outputs": [],
   "source": [
    "corpus = ['el perro come un hueso', 'un muchacho jugaba', 'el muchacho saltaba la cuerda',\n",
    "          'un perro come croquetas']\n",
    "\n",
    "#Llamamos la funcion para crear el vocabulario\n",
    "idx = vocab()\n",
    "#Creamos el vocabulario y le asignamos un indice a cada simbolo segun su aparicion\n",
    "cads_idx = list(text2numba([s.split() for s in corpus],idx))\n",
    "\n",
    "#Indicamos las etiquetas a usar\n",
    "EOS = '<EOS>'\n",
    "BOS = '<BOS>'\n",
    "\n",
    "#Cada etiqeuta se le asigna un indice numerico\n",
    "BOS_IDX = max(idx.values())+2\n",
    "EOS_IDX = max(idx.values())+1\n",
    "\n",
    "#Se agregan estas etiqeutas al vocabulario\n",
    "idx[EOS] = EOS_IDX\n",
    "idx[BOS] = BOS_IDX\n",
    "\n",
    "#A cada cadena se le agrega la etiqueta BOS al inicio y EOS al final\n",
    "cadenas = [[BOS_IDX] + cad + [EOS_IDX] for cad in cads_idx]\n",
    "\n",
    "#Se obtiene la longitud del alfabeto\n",
    "N = len(idx)"
   ]
  },
  {
   "cell_type": "markdown",
   "metadata": {},
   "source": [
    "De aquí, obtenemos los bigramas. Estos serán pares de números, pues a partir de estos se pueden obtener los one-hot vectors y la neurona de activación de la salida."
   ]
  },
  {
   "cell_type": "code",
   "execution_count": 4,
   "metadata": {
    "scrolled": true
   },
   "outputs": [
    {
     "name": "stdout",
     "output_type": "stream",
     "text": [
      "[(12, 0), (0, 1), (1, 2), (2, 3), (3, 4), (4, 11), (12, 3), (3, 5), (5, 6), (6, 11), (12, 0), (0, 5), (5, 7), (7, 8), (8, 9), (9, 11), (12, 3), (3, 1), (1, 2), (2, 10), (10, 11)]\n"
     ]
    }
   ],
   "source": [
    "#Se crean los bigramas\n",
    "bigrams = list(chain(*[zip(cad,cad[1:]) for cad in cadenas]))\n",
    "\n",
    "#Se obtiene la frecuencia de cada bigrama\n",
    "frecBigrams = Counter(bigrams)\n",
    "\n",
    "print(bigrams)"
   ]
  },
  {
   "cell_type": "markdown",
   "metadata": {},
   "source": [
    "### Entrenamiento del modelo\n",
    "\n",
    "Si bien no presentamos el modelo de manera explícita, aplicamos este a los datos señalando los hiperparámetros y los resultados que de este se obtienen."
   ]
  },
  {
   "cell_type": "code",
   "execution_count": 5,
   "metadata": {},
   "outputs": [],
   "source": [
    "model = Model(bigrams, idx, dim_emb=2, nn_hdim=3)"
   ]
  },
  {
   "cell_type": "markdown",
   "metadata": {},
   "source": [
    "En primer lugar, entrenamos la red señalando el número de iteraciones y el rango de aprendizaje:"
   ]
  },
  {
   "cell_type": "code",
   "execution_count": 6,
   "metadata": {},
   "outputs": [
    {
     "name": "stderr",
     "output_type": "stream",
     "text": [
      "100%|██████████| 50/50 [00:00<00:00, 621.49it/s]\n"
     ]
    }
   ],
   "source": [
    "model.train(its=50, eta=0.1)"
   ]
  },
  {
   "cell_type": "markdown",
   "metadata": {},
   "source": [
    "Con el entrenamiento, hemos obtenido los pesos de la red óptimos que solucionan el problema. En este caso, hemos encontrado los pesos de la red que determinan la mejor función de probabilidad. Entonces podemos aplicar la red para obtener las probabilidades de transición:"
   ]
  },
  {
   "cell_type": "code",
   "execution_count": 7,
   "metadata": {},
   "outputs": [
    {
     "data": {
      "text/plain": [
       "{'el': 0.0004744082760160536,\n",
       " 'perro': 0.4134975418958695,\n",
       " 'come': 0.018646032601559916,\n",
       " 'un': 0.00030276916006895466,\n",
       " 'hueso': 0.13432195331056138,\n",
       " 'muchacho': 0.39269287946282455,\n",
       " 'jugaba': 0.0009214867341456758,\n",
       " 'saltaba': 0.0011378085905999862,\n",
       " 'la': 0.00992245949166231,\n",
       " 'cuerda': 0.0007962470884510516,\n",
       " 'croquetas': 0.0003332868260387378,\n",
       " '<EOS>': 0.02695312656220175}"
      ]
     },
     "execution_count": 7,
     "metadata": {},
     "output_type": "execute_result"
    }
   ],
   "source": [
    "model.forward('el')"
   ]
  },
  {
   "cell_type": "markdown",
   "metadata": {},
   "source": [
    "Finalmente, podemos observar el comportamiento de los embeddings, los cuales se aprendieron también durante el proceso de aprendizaje de la red:"
   ]
  },
  {
   "cell_type": "code",
   "execution_count": 9,
   "metadata": {},
   "outputs": [
    {
     "data": {
      "image/png": "[encoded data removed]",
      "text/plain": [
       "<Figure size 432x288 with 1 Axes>"
      ]
     },
     "metadata": {
      "needs_background": "light"
     },
     "output_type": "display_data"
    }
   ],
   "source": [
    "label = [w[0] for w in sorted(idx.items(), key=itemgetter(1))]\n",
    "plot_words(model.C.T[:-2],label[:-2])"
   ]
  },
  {
   "cell_type": "markdown",
   "metadata": {},
   "source": [
    "# Modelo del lenguaje de un texto\n",
    "\n",
    "Ahora que hemos visto cómo se aplica el modelo de lenguaje de Bengio, podemos aplicarlo a un texto particular, que nos permitirá evaluar la calidad del modelo:"
   ]
  },
  {
   "cell_type": "code",
   "execution_count": 10,
   "metadata": {},
   "outputs": [],
   "source": [
    "from nltk.corpus import cess_esp\n",
    "from sklearn.model_selection import train_test_split\n",
    "from nltk.tokenize import sent_tokenize, word_tokenize"
   ]
  },
  {
   "cell_type": "markdown",
   "metadata": {},
   "source": [
    "### Preparación del texto\n",
    "\n",
    "Obtenemos las sentencias con las que vamos a trabajar. Tokenizamos por oraciones y cada oración, a su vez, es tokenizada por palabras para obtener los elementos que servirán para el modelo del lenguaje.\n",
    "\n",
    "Posteriormente, separamos los datos del corpus en el corpus de entrenamiento y el de evaluación:"
   ]
  },
  {
   "cell_type": "code",
   "execution_count": 11,
   "metadata": {},
   "outputs": [
    {
     "name": "stdout",
     "output_type": "stream",
     "text": [
      "Número de cadenas train: 135\n",
      "Número de cadenas test: 58\n"
     ]
    }
   ],
   "source": [
    "#Obtener las sentencias del cuento\n",
    "#Aleph de borges\n",
    "sents = [word_tokenize(s) for s in sent_tokenize(open('borges_aleph.txt','r').read())]\n",
    "\n",
    "#Split en corpus train y test\n",
    "corpus, corpus_eval = train_test_split(sents, test_size=0.3)\n",
    "\n",
    "print('Número de cadenas train:',len(corpus))\n",
    "print('Número de cadenas test:',len(corpus_eval))"
   ]
  },
  {
   "cell_type": "markdown",
   "metadata": {},
   "source": [
    "También podemos ver el número de tipos y tokens con el que cuenta el texto:"
   ]
  },
  {
   "cell_type": "code",
   "execution_count": 12,
   "metadata": {},
   "outputs": [
    {
     "name": "stdout",
     "output_type": "stream",
     "text": [
      "Número de tipos: 1445 \n",
      "Número de tokens: 3934\n"
     ]
    }
   ],
   "source": [
    "#Frecuencia de los tipos\n",
    "freq_words= Counter( chain(*[' '.join(sent).lower().split() for sent in corpus]) )\n",
    "\n",
    "print('Número de tipos: {} \\nNúmero de tokens: {}'.format(len(freq_words), sum(freq_words.values())))"
   ]
  },
  {
   "cell_type": "markdown",
   "metadata": {},
   "source": [
    "### Sustitución de los hapax \n",
    "\n",
    "Ahora sustituiremos elementos del texto por el símbolo de fuera del vocabulario (Out Of Vocabulary) o $OOV$ esto nos permitirá manejar elementos que no se observen durante el entrenamiento."
   ]
  },
  {
   "cell_type": "code",
   "execution_count": 13,
   "metadata": {},
   "outputs": [],
   "source": [
    "#Nuevo corpus remplazando hápax por OOV\n",
    "corpus_hapax = []\n",
    "#Reemplazamos los hápax por OOV\n",
    "for sent in corpus:\n",
    "  sent_hapax =[]\n",
    "  for w in sent:\n",
    "    #Si es hápax\n",
    "    if freq_words[w.lower()] == 1:\n",
    "      #Se reemplaza por <oov>\n",
    "      sent_hapax.append('<oov>')\n",
    "    else:\n",
    "      #De otra forma se mantiene la palabra en mínuscula\n",
    "      sent_hapax.append(w.lower())\n",
    "  #Se agrupan las cadenas    \n",
    "  corpus_hapax.append(sent_hapax)"
   ]
  },
  {
   "cell_type": "markdown",
   "metadata": {},
   "source": [
    "### Obtención de los pares de entrenamiento\n",
    "\n",
    "Antes de entrenar el modelo del lenguaje obtendremos los pares de entrenamiento que serán los pares obtenidos de bigramas, de tal forma que nuestro conjunto supervisado será:\n",
    "\n",
    "$$\\mathcal{S} = \\{(i,j) : (w_i, w_j) \\text{ es un bigrama}\\}$$\n",
    "\n",
    "Antes de obtener estos bigramas, además, debemos agregar los símbolos de $BOS$ y $EOS$, así como crear el vocabulario:"
   ]
  },
  {
   "cell_type": "code",
   "execution_count": 14,
   "metadata": {},
   "outputs": [
    {
     "name": "stdout",
     "output_type": "stream",
     "text": [
      "[(298, 0), (0, 1), (1, 1), (1, 1), (1, 2), (2, 3), (3, 4), (4, 5), (5, 6), (6, 7)]\n"
     ]
    }
   ],
   "source": [
    "voc = vocab()\n",
    "#Creamos el vocabulario y le asignamos un indice a cada simbolo segun su aparicion\n",
    "cads_idx = list(text2numba(corpus_hapax,voc))\n",
    "#Indicamos las etiquetas a usar\n",
    "EOS = '<EOS>'\n",
    "BOS = '<BOS>'\n",
    "#Cada etiqeuta se le asigna un indice numerico\n",
    "BOS_IDX = max(voc.values())+2\n",
    "EOS_IDX = max(voc.values())+1\n",
    "#Se agregan estas etiqeutas al vocabulario\n",
    "voc[EOS] = EOS_IDX\n",
    "voc[BOS] = BOS_IDX\n",
    "#A cada cadena se le agrega la etiqueta BOS al inicio y EOS al final\n",
    "cadenas = [[BOS_IDX] + cad + [EOS_IDX] for cad in cads_idx]\n",
    "#Se crean los bigramas\n",
    "bigrams = list(chain(*[zip(cad,cad[1:]) for cad in cadenas]))\n",
    "\n",
    "print(bigrams[:10])"
   ]
  },
  {
   "cell_type": "markdown",
   "metadata": {},
   "source": [
    "## Entrenamiento del modelo\n",
    "\n",
    "Ahora podemos pasar a entrenar el modelo. Para esto, señalamos el número de iteraciones y el rango de aprendizaje:"
   ]
  },
  {
   "cell_type": "code",
   "execution_count": 15,
   "metadata": {},
   "outputs": [
    {
     "name": "stderr",
     "output_type": "stream",
     "text": [
      "100%|██████████| 50/50 [04:39<00:00,  5.60s/it]"
     ]
    },
    {
     "name": "stdout",
     "output_type": "stream",
     "text": [
      "CPU times: user 23min 49s, sys: 24min 45s, total: 48min 34s\n",
      "Wall time: 4min 39s\n"
     ]
    },
    {
     "name": "stderr",
     "output_type": "stream",
     "text": [
      "\n"
     ]
    }
   ],
   "source": [
    "%%time\n",
    "#Entrenamiento de la red\n",
    "big_model = Model(bigrams, voc, dim_emb=100, nn_hdim=300)\n",
    "big_model.train(its=50, eta=0.1)"
   ]
  },
  {
   "cell_type": "markdown",
   "metadata": {},
   "source": [
    "### Evaluación del modelo\n",
    "\n",
    "Para evalaur el modelo, necesitamos primero definir una función que nos de la probabilidad de las cadenas. Definimos esta función a continuación"
   ]
  },
  {
   "cell_type": "code",
   "execution_count": 16,
   "metadata": {},
   "outputs": [],
   "source": [
    "def prob_sent(sent):\n",
    "    #Obtenemos los simbolos\n",
    "    seq = sent.split()\n",
    "    #Obtenemos los bigramas de la cadena de evaluacion\n",
    "    bigrSeq = zip(seq,seq[1:])\n",
    "    \n",
    "    #Guardamos la probabilidad inicial dado el modelo\n",
    "    try:\n",
    "        p = big_model.forward('<BOS>')[seq[0]]\n",
    "    except: \n",
    "        p = big_model.forward('<BOS>')['<oov>']\n",
    "    #Multiplicamos por las probabilidades de los bigramas dado el modelo\n",
    "    for gram1, gram2 in bigrSeq:\n",
    "        #Obtiene las probabilidades de transición\n",
    "        #Dado el primer elemento\n",
    "        try:\n",
    "            prev_prob = big_model.forward(gram1)\n",
    "        #En caso de que sea una OOV\n",
    "        except:\n",
    "            prev_prob = big_model.forward('<oov>')\n",
    "        #Obtiene la probabilidad de transitar a la siguiente palabra\n",
    "        try:\n",
    "            p *= prev_prob[gram2]\n",
    "        #En caso de que sea una OOV\n",
    "        except:\n",
    "            p *= prev_prob['<oov>']\n",
    "            \n",
    "    return p "
   ]
  },
  {
   "cell_type": "code",
   "execution_count": 17,
   "metadata": {},
   "outputs": [
    {
     "data": {
      "text/plain": [
       "4.635405767151419e-08"
      ]
     },
     "execution_count": 17,
     "metadata": {},
     "output_type": "execute_result"
    }
   ],
   "source": [
    "prob_sent('el aleph es un cuento')"
   ]
  },
  {
   "cell_type": "markdown",
   "metadata": {},
   "source": [
    "Ya con esto, podemos evaluar el modelo con entropía empírica (tomamos el promedio por cadena de ésta). Asimismo, con base en la entropía empírica podemos obtener la perplejidad como:\n",
    "\n",
    "$$Px(\\mu) = 2^{H(\\mu)}$$"
   ]
  },
  {
   "cell_type": "code",
   "execution_count": 18,
   "metadata": {},
   "outputs": [
    {
     "name": "stdout",
     "output_type": "stream",
     "text": [
      "Entropía promedio: 5.0019962442820525\n",
      "Perplejidad total: 32.044308762816854\n"
     ]
    }
   ],
   "source": [
    "#Evaluación del modelo\n",
    "H = 0.0\n",
    "for cad in corpus_eval:\n",
    "    #Probabilidad de la cadena\n",
    "    p_cad = prob_sent(' '.join(cad))\n",
    "    #Longitud de la cadena\n",
    "    M = len(cad)\n",
    "    #Obtenemos la entropía cruzada de la cadena\n",
    "    if p_cad == 0:\n",
    "        pass\n",
    "    else:\n",
    "        H -= (1./M)*(np.log(p_cad)/np.log(2))\n",
    "        \n",
    "H = H/len(corpus_eval)\n",
    "\n",
    "print('Entropía promedio: {}\\nPerplejidad total: {}'.format(H,2**H))"
   ]
  },
  {
   "cell_type": "markdown",
   "metadata": {},
   "source": [
    "## Aplicaciones del modelo\n",
    "\n",
    "Para acabar, presentamos algunas aplicaciones del modelo. Ya hemos visto que con este se pueden obtener las probabilidades de cadenas. También podemos obtener las palabras con mayor probabilidad de seguir a una palabra de entrada:"
   ]
  },
  {
   "cell_type": "code",
   "execution_count": 19,
   "metadata": {},
   "outputs": [],
   "source": [
    "#Función para obtener las probabilidades ordenadas de mayor a menor\n",
    "def get_ordered_probs(word):\n",
    "    probs = big_model.forward(word)\n",
    "    probs.pop('<oov>')\n",
    "    return sorted(probs.items(), key=itemgetter(1), reverse=True)"
   ]
  },
  {
   "cell_type": "code",
   "execution_count": 20,
   "metadata": {},
   "outputs": [
    {
     "data": {
      "text/plain": [
       "[('que', 0.029063084261079536),\n",
       " ('historia', 0.019388641754210623),\n",
       " ('casa', 0.007078160725972961),\n",
       " ('escalera', 0.00574433162048245),\n",
       " ('mezquita', 0.0041154306658089685),\n",
       " ('obra', 0.003932688562187116),\n",
       " ('calle', 0.003399977538639194),\n",
       " ('tierra', 0.0029985924198209562),\n",
       " ('mi', 0.0028195300256241202),\n",
       " ('primera', 0.0027053231075902027)]"
      ]
     },
     "execution_count": 20,
     "metadata": {},
     "output_type": "execute_result"
    }
   ],
   "source": [
    "get_ordered_probs('la')[:10]"
   ]
  },
  {
   "cell_type": "markdown",
   "metadata": {},
   "source": [
    "### Generación de lenguaje\n",
    "\n",
    "Una de las aplicaciones típicas de los modelos del lenguaje es generar lenguaje. Para esto definiremos una función que predice una palabra siguiente y la aplicaremos de manera iterativa."
   ]
  },
  {
   "cell_type": "code",
   "execution_count": 21,
   "metadata": {},
   "outputs": [],
   "source": [
    "#Función que genera una palabra siguiente\n",
    "def next_word(string):\n",
    "    #Obtener la última palabra en la historia\n",
    "    last_w = string.split()[-1]\n",
    "    #Obtener una palabra en base a la distribución\n",
    "    selection = np.random.choice(range(1), 1, p=None)[0]\n",
    "    max_w = get_ordered_probs(last_w)[selection]\n",
    "    #max_w = get_ordered_probs(last_w)[0]\n",
    "    \n",
    "    return max_w\n",
    "\n",
    "#Función que genera cadena\n",
    "def generate(string):\n",
    "    #Guarda la palabra predicha\n",
    "    w = ''\n",
    "    #Guarda la cadena que se ha generado\n",
    "    str_gen = string\n",
    "    #El método se detiene al ver <EOS>\n",
    "    t = 0\n",
    "    while w != '<EOS>':\n",
    "        #Predice la siguiente palabra\n",
    "        w, p = next_word(str_gen)\n",
    "        #Agrega esa palabra a ala cadena\n",
    "        str_gen += ' ' + w\n",
    "        t += 1\n",
    "        if t == 100:\n",
    "            w = '<EOS>'\n",
    "    \n",
    "    #Regresa la cadena si el símbolo EOS\n",
    "    return str_gen[:len(str_gen)]"
   ]
  },
  {
   "cell_type": "code",
   "execution_count": 22,
   "metadata": {},
   "outputs": [
    {
     "data": {
      "text/plain": [
       "'la poesía es muy poco , infinita . <EOS>'"
      ]
     },
     "execution_count": 22,
     "metadata": {},
     "output_type": "execute_result"
    }
   ],
   "source": [
    "generate('la poesía es')"
   ]
  },
  {
   "cell_type": "markdown",
   "metadata": {},
   "source": [
    "# Generalización del modelo\n",
    "\n",
    "Una generalización del modelo que permite la arquitectura neuronal es considerar varias entradas previas, varias palabras precedentes, que den lugar a la probabilidad de la palabra siguiente.\n",
    "\n",
    "Como se genera un modelo de embedding, se asume que se pueden representar las cadenas de palabras como el promedio de los embeddings que los conforman, esto es, si tenemos una cadena $w_{i_1}, w_{i_2},...,w_{i_T}, su embedding será:\n",
    "\n",
    "$$C(i_1,i_2,...,i_T)  = \\frac{1}{T}\\sum_{t=1}^T C(i_t)$$\n",
    "\n",
    "Podemos tomar este embedding para correr la red sobre él y obtener la prbabilidad:\n",
    "\n",
    "$$p(w_j|w_{i_1}, w_{i_2},...,w_{i_T}) = \\phi(w_{i_1}, w_{i_2},...,w_{i_T})$$\n",
    "\n",
    "Donde $\\phi(w_{i_1}, w_{i_2},...,w_{i_T})$ es la red aplicada a estas palabras previas."
   ]
  },
  {
   "cell_type": "code",
   "execution_count": 23,
   "metadata": {},
   "outputs": [],
   "source": [
    "#Función para una entrada múltiple\n",
    "#toma los pesos aprendidos del modelo simple\n",
    "def multi_forward(prev_words):\n",
    "    #Suma de embeddings\n",
    "    c_w = sum([big_model.C.T[voc[word]] for word in prev_words.split(' ')])\n",
    "    #Capa oculta\n",
    "    h = np.tanh(big_model.U@c_w + big_model.b)\n",
    "    #Capa de salida\n",
    "    out = np.exp(big_model.W@h + big_model.c)\n",
    "    p = out/out.sum()\n",
    "    \n",
    "    return {list(voc.keys())[i]:p[0][i] for i in range(len(p[0]))}"
   ]
  },
  {
   "cell_type": "code",
   "execution_count": 24,
   "metadata": {},
   "outputs": [
    {
     "data": {
      "text/plain": [
       "[('se', 0.05286211976880284),\n",
       " ('que', 0.02544670504726472),\n",
       " ('grandes', 0.015038480159444626),\n",
       " (';', 0.007763425196366063),\n",
       " ('los', 0.006921023546869526),\n",
       " ('dos', 0.005694426016535696),\n",
       " (',', 0.00418210152379105),\n",
       " ('aleph', 0.0027555227259215115),\n",
       " ('cargo', 0.002556345976682709),\n",
       " ('sé', 0.0024710006052271485)]"
      ]
     },
     "execution_count": 24,
     "metadata": {},
     "output_type": "execute_result"
    }
   ],
   "source": [
    "def multi_ordered_probs(word):\n",
    "    probs = multi_forward(word)\n",
    "    probs.pop('<oov>')\n",
    "    return sorted(probs.items(), key=itemgetter(1), reverse=True)\n",
    "\n",
    "multi_ordered_probs('el poema de')[:10]"
   ]
  },
  {
   "cell_type": "markdown",
   "metadata": {},
   "source": [
    "Con esta generalización ta,bién podemos generar lenguaje. En este caso, la en cada paso se observará toda la cadena generada hasta ese momento:"
   ]
  },
  {
   "cell_type": "code",
   "execution_count": 25,
   "metadata": {},
   "outputs": [],
   "source": [
    "def multi_generate(string):\n",
    "    #Guarda la palabra predicha\n",
    "    w = ''\n",
    "    #Guarda la cadena que se ha generado\n",
    "    str_gen = string\n",
    "    #El método se detiene al ver <EOS>\n",
    "    t = 0\n",
    "    while w != '<EOS>':\n",
    "        #Predice la siguiente palabra\n",
    "        selection = np.random.choice(range(3), 1, p=None)[0]\n",
    "        w, p = multi_ordered_probs(str_gen)[selection]\n",
    "        #Agrega esa palabra a ala cadena\n",
    "        str_gen += ' ' + w\n",
    "        t += 1\n",
    "        if t == 100:\n",
    "            w = '<EOS>'\n",
    "    \n",
    "    #Regresa la cadena si el símbolo EOS\n",
    "    return str_gen[:len(str_gen)]"
   ]
  },
  {
   "cell_type": "code",
   "execution_count": 26,
   "metadata": {},
   "outputs": [
    {
     "data": {
      "text/plain": [
       "'el poema se había aleph , es la ahora la letra considerable y , hasta hace muy poco bien bien bien nos ... claro , poco claro otro claro está está , mis está , como infinita mis observó , , como bajo como si mis bajo si si observó bien si bien poco poco poco después después si , poco poco poco , después poco , . después después después murió , poco , después , después después murió , , , después después murió después observó observó bajo después observó observó fuera si después después después si murió observó después'"
      ]
     },
     "execution_count": 26,
     "metadata": {},
     "output_type": "execute_result"
    }
   ],
   "source": [
    "multi_generate('el poema')"
   ]
  },
  {
   "cell_type": "markdown",
   "metadata": {},
   "source": [
    "### Visualización de los embeddings\n",
    "\n",
    "El modelo también aprende las representaciones vectoriales de las palabras que pueden representarse en un espacio vectorial:"
   ]
  },
  {
   "cell_type": "code",
   "execution_count": 27,
   "metadata": {},
   "outputs": [
    {
     "data": {
      "image/png": "[encoded data removed]",
      "text/plain": [
       "<Figure size 432x288 with 1 Axes>"
      ]
     },
     "metadata": {
      "needs_background": "light"
     },
     "output_type": "display_data"
    }
   ],
   "source": [
    "label = [w[0] for w in sorted(voc.items(), key=itemgetter(1))]\n",
    "plot_words(big_model.C.T[:-2],label[:-2])"
   ]
  },
  {
   "cell_type": "markdown",
   "metadata": {},
   "source": [
    "   "
   ]
  }
 ],
 "metadata": {
  "kernelspec": {
   "display_name": "Python 3",
   "language": "python",
   "name": "python3"
  },
  "language_info": {
   "codemirror_mode": {
    "name": "ipython",
    "version": 3
   },
   "file_extension": ".py",
   "mimetype": "text/x-python",
   "name": "python",
   "nbconvert_exporter": "python",
   "pygments_lexer": "ipython3",
   "version": "3.8.10"
  }
 },
 "nbformat": 4,
 "nbformat_minor": 4
}
