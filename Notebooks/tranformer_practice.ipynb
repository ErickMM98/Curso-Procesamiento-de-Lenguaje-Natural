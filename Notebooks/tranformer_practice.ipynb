{
 "cells": [
  {
   "cell_type": "markdown",
   "id": "dfee9f66",
   "metadata": {},
   "source": [
    "# Ejemplo de uso de tranformer para traducción\n",
    "\n",
    "Los Transfomers han mostrado un gran potencial para trabajar con problemas que requieren pasar de una secuencia a otra. En particular, su uso en la traducción ha sido extensivo. Aquí mostramos una aplicación a un problema de traducción entre los pares de lenguas español-otomí."
   ]
  },
  {
   "cell_type": "code",
   "execution_count": 1,
   "id": "07a8cfad",
   "metadata": {},
   "outputs": [],
   "source": [
    "from transformer import transformer_model\n",
    "import matplotlib.pyplot as plt\n",
    "from collections import defaultdict\n",
    "from elotl.corpus import load\n",
    "from seaborn import heatmap"
   ]
  },
  {
   "cell_type": "markdown",
   "id": "c672bc17",
   "metadata": {},
   "source": [
    "### Pre-procesamiento de los datos\n",
    "\n",
    "En primer lugar, debemos obtener los elementos que serán la entrada del modelo de Transformer. Para esto, debemos construir un vocabulario, agregando símbolos especiales: 1) el símbolo de PAD que llena las secuencias para que todas tengan la misma longitud; 2) símbolos de inicio, BOS, y final, EOS, de la secuencia; 3) un símbolo para cuando no se ha observado un elemento del vocabulario en el entrenamiento, OOV.\n",
    "\n",
    "En este caso, trabajaremos con caracteres como los elementos del vocabulario. Cada caracter se asociará a un índice y además se agregarán a las cadenas de caracteres los índices de los símbolos especiales correspondientes."
   ]
  },
  {
   "cell_type": "code",
   "execution_count": 2,
   "id": "1b2de959",
   "metadata": {},
   "outputs": [],
   "source": [
    "#Índices de símbolos especiales\n",
    "PAD_IDX = 0\n",
    "BOS_IDX = 1\n",
    "EOS_IDX = 2\n",
    "OOV_IDX = 3\n",
    "\n",
    "#Funcion que crea un vocabulario de palabras con un indice numerico\n",
    "def vocab():\n",
    "    vocab = defaultdict()\n",
    "    vocab.default_factory = lambda: len(vocab)\n",
    "    return vocab    \n",
    "\n",
    "#Funcion que pasa la cadena de simbolos a una secuencia con indices numericos\n",
    "def text2numba(corpus, vocab):\n",
    "    for doc in corpus:\n",
    "        yield [vocab[w] for w in list(doc.strip())]\n",
    "        \n",
    "#Función para hacer padding\n",
    "def insert_pad(lista, PAD_IDX=PAD_IDX):    \n",
    "    l = max([len(cad) for cad in lista])\n",
    "    pad_lista = []\n",
    "    for cad in lista:\n",
    "        pad_cad = cad + [PAD_IDX for i in range(l-len(cad))]\n",
    "        pad_lista.append(pad_cad)\n",
    "    return pad_lista\n",
    "\n",
    "#Funcuón para insertar símbolos a las cadenas\n",
    "def process_seqs(seqs,BOS_IDX=BOS_IDX,EOS_IDX=EOS_IDX):\n",
    "    return insert_pad([[BOS_IDX] + cad + [EOS_IDX] for cad in seqs])"
   ]
  },
  {
   "cell_type": "markdown",
   "id": "4637aef2",
   "metadata": {},
   "source": [
    "Usaremos un sub-corpus, parte del corpus otomí-español Tsunkua. El objetivo es mostrar el funcionamiento del transformer para la traducción. Este corpus contiene algunas frases comúnes en otomí."
   ]
  },
  {
   "cell_type": "code",
   "execution_count": 3,
   "id": "1bec90db",
   "metadata": {},
   "outputs": [
    {
     "name": "stdout",
     "output_type": "stream",
     "text": [
      "[('buenos días', \"ki hats'i\"), ('bienvenidos', 'hogä ehe'), ('muchas gracias', 'ndunthi di jämadi'), ('regresa pronto', \"mänt'ä gi pengi\"), ('buen provecho', 'nzaki'), ('mi nombre es', 'ma tuhu'), ('pase usted a descansar', 'thogi gi zi tsaya'), ('muchas gracias por su visita', 'ndunthi di jämadi po rá tso̱ni'), ('¡qué disfruten de esta reunión!', \"ga ho ra hmunts'i\"), ('con permiso, ya me voy', 'ko ri zi nseki, ya dá zi ma'), ('nos vemos pronto', 'ga nzenguahu̱'), ('nos vemos, buen camino', \"ga k'athu, hoga 'ñu\"), ('buenas tardes', 'ki dee, texki dee'), ('buenos días', 'haxa juä')]\n"
     ]
    }
   ],
   "source": [
    "#Carcgar el corpus bilingüe\n",
    "corpus = load('tsunkua')\n",
    "\n",
    "src = [sent[0].lower() for sent in corpus if sent[3]=='PRONTUARIO EN  OTOMÍ  / ESPAÑOL HÑÄHÑU']\n",
    "tgt = [sent[1].lower() for sent in corpus if sent[3]=='PRONTUARIO EN  OTOMÍ  / ESPAÑOL HÑÄHÑU']\n",
    "\n",
    "print(list(zip(src,tgt)))"
   ]
  },
  {
   "cell_type": "markdown",
   "id": "c0fc8217",
   "metadata": {},
   "source": [
    "Creamos el vocabulario y las cadenas de índices que tomará el modelo de Trasnformer a partir de las cadenas de textos. Las cadenas estarán compuestas de caracteres. Por tanto, el vocabulario corresponderá a los carateres presentes en ambas lenguas."
   ]
  },
  {
   "cell_type": "code",
   "execution_count": 4,
   "id": "17bd3e4f",
   "metadata": {},
   "outputs": [],
   "source": [
    "#Crear vobulario y cadenas\n",
    "#Lenguaje fuente\n",
    "src_voc = vocab()\n",
    "src_voc['<PAD>'] = PAD_IDX\n",
    "src_voc['<BOS>'] = BOS_IDX\n",
    "src_voc['<EOS>'] = EOS_IDX\n",
    "src_voc['<OOV>'] = OOV_IDX\n",
    "src_cads = process_seqs(list(text2numba(src,src_voc)))\n",
    "\n",
    "#Crear vocabulario y cadenas\n",
    "#Lenguaje objetivo\n",
    "tgt_voc = vocab()\n",
    "tgt_voc['<PAD>'] = PAD_IDX\n",
    "tgt_voc['<BOS>'] = BOS_IDX\n",
    "tgt_voc['<EOS>'] = EOS_IDX\n",
    "tgt_cads = process_seqs(list(text2numba(tgt,tgt_voc)))\n",
    "\n",
    "#Longitudes de los vocabulario\n",
    "len_src, len_tgt = len(src_voc), len(tgt_voc)"
   ]
  },
  {
   "cell_type": "markdown",
   "id": "48c57ee5",
   "metadata": {},
   "source": [
    "### Creación y entrenamiento del modelo\n",
    "\n",
    "En primer lugar, definimos el modelo a partir de los hiperparámetros"
   ]
  },
  {
   "cell_type": "code",
   "execution_count": 5,
   "id": "6d06b25d",
   "metadata": {
    "scrolled": true
   },
   "outputs": [],
   "source": [
    "#Se genera el modelo en base a los hiperparámetros\n",
    "model = transformer_model(len_src,len_tgt,N=1, d_model=128,d_ff=128,h=1)"
   ]
  },
  {
   "cell_type": "markdown",
   "id": "601eb974",
   "metadata": {},
   "source": [
    "Ahora entrenamos el modelo con los datos que hemos pre-procesado:"
   ]
  },
  {
   "cell_type": "code",
   "execution_count": 6,
   "id": "266f688c",
   "metadata": {},
   "outputs": [
    {
     "name": "stderr",
     "output_type": "stream",
     "text": [
      "100%|██████████| 1000/1000 [01:38<00:00, 10.15it/s]\n"
     ]
    },
    {
     "data": {
      "image/png": "[encoded data removed]",
      "text/plain": [
       "<Figure size 432x288 with 1 Axes>"
      ]
     },
     "metadata": {
      "needs_background": "light"
     },
     "output_type": "display_data"
    },
    {
     "name": "stdout",
     "output_type": "stream",
     "text": [
      "CPU times: user 9min 50s, sys: 866 ms, total: 9min 50s\n",
      "Wall time: 1min 38s\n"
     ]
    }
   ],
   "source": [
    "%%time\n",
    "#Entrenamiento del modelo\n",
    "model.train(src_cads,tgt_cads,its=1000,batch_size=2)\n",
    "#Plot de la pérdida\n",
    "plt.plot(model.loss)\n",
    "plt.show()"
   ]
  },
  {
   "cell_type": "markdown",
   "id": "c4ad74c6",
   "metadata": {},
   "source": [
    "### Modelo entrenado\n",
    "\n",
    "Ya que hemos entrenado el modelo, podemos ver cómo funciona. Para esto, definirmos una función que nos proporcionará tensores de entrada para el transformer a partir de cadenas en el lenguaje a traducri. También definimos una función que transforma las salidas (tensoriales) en cadenas del lenguaje traducido."
   ]
  },
  {
   "cell_type": "code",
   "execution_count": 7,
   "id": "ab529390",
   "metadata": {},
   "outputs": [],
   "source": [
    "#Función para convertir cadenas en el formato adecuadi\n",
    "def get_x_input(sents):\n",
    "    x_sents = []\n",
    "    for sent in sents:\n",
    "        x_sent = []\n",
    "        for c in list(sent):\n",
    "            try: \n",
    "                idx_c = src_voc[c]\n",
    "            except: \n",
    "                idx_c = src_voc[OOV_IDX]\n",
    "            x_sent.append(idx_c)\n",
    "        x_sents.append([BOS_IDX] + x_sent + [EOS_IDX])\n",
    "        \n",
    "    return x_sents\n",
    "\n",
    "#Transformar salidas en palabras\n",
    "tgt_voc_rev = {k:v for v,k in tgt_voc.items()}\n",
    "def get_output(sent):\n",
    "    sent = sent.tolist()[1:]\n",
    "    return ''.join([tgt_voc_rev[word] for word in sent if word != 0 and word !=2])"
   ]
  },
  {
   "cell_type": "markdown",
   "id": "8d340b77",
   "metadata": {},
   "source": [
    "Con estas funciones definidas, probamos el transformer en ejemplos específicos del español. El resultado serán cadenas en otomí."
   ]
  },
  {
   "cell_type": "code",
   "execution_count": 9,
   "id": "c5ddf5d5",
   "metadata": {},
   "outputs": [
    {
     "name": "stdout",
     "output_type": "stream",
     "text": [
      "buen provecho --> nzaki\n",
      "buenos provechos --> nzaki\n",
      "bienvenido --> hogä eheheheheheheh\n",
      "binvenida --> hogä eheheheheheheh\n",
      "nombre --> ma tuhurá tso̱ni\n",
      "mis nombres --> ma tuhurá tso̱ni\n",
      "muchas gracias --> ndunthi di jämadi\n",
      "muchas --> ndunthi di jämadi\n",
      "muchas tardes --> ntuhi gi gi zi gi t\n",
      "grcias muchs --> ndunthi di jämadi\n",
      "mushas grasias --> ndunthi di jämadi\n"
     ]
    }
   ],
   "source": [
    "sents = ['buen provecho', 'buenos provechos','bienvenido', 'binvenida', 'nombre', 'mis nombres', 'muchas gracias', \n",
    "         'muchas', 'muchas tardes', 'grcias muchs', 'mushas grasias']\n",
    "\n",
    "for i,sent in enumerate(sents):\n",
    "    x_input = get_x_input([sent])\n",
    "    pred = model.predict([x_input],BOS=BOS_IDX, max_len=20)\n",
    "    y = get_output(pred)\n",
    "    print('{} --> {}'.format(sent,y))\n",
    "    #len_y, len_x = len(y), len(x_input[0])\n",
    "    #att = model.model.decoder.layers[0].self_attn.attn[0].data.reshape(19,19)[:len_y, :len_x]\n",
    "    #heatmap(att, xticklabels=list(sent), yticklabels=list(y))\n",
    "    #plt.show()"
   ]
  },
  {
   "cell_type": "markdown",
   "id": "1cee2c5e",
   "metadata": {},
   "source": [
    "     "
   ]
  }
 ],
 "metadata": {
  "kernelspec": {
   "display_name": "Python 3",
   "language": "python",
   "name": "python3"
  },
  "language_info": {
   "codemirror_mode": {
    "name": "ipython",
    "version": 3
   },
   "file_extension": ".py",
   "mimetype": "text/x-python",
   "name": "python",
   "nbconvert_exporter": "python",
   "pygments_lexer": "ipython3",
   "version": "3.8.8"
  }
 },
 "nbformat": 4,
 "nbformat_minor": 5
}
