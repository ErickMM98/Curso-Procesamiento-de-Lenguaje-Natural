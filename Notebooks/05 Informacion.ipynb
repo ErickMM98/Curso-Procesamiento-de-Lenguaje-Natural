{
 "cells": [
  {
   "cell_type": "markdown",
   "metadata": {
    "colab_type": "text",
    "id": "up1D_sa_amQ5"
   },
   "source": [
    "# Información\n",
    "\n",
    "La información es el concepto fundamental de la teoría de la información. Sus aplicaciones son múltiples, además de que funge como base para  el desarrollo de otras herramientas dentro de esta  teoría."
   ]
  },
  {
   "cell_type": "code",
   "execution_count": 1,
   "metadata": {
    "colab": {},
    "colab_type": "code",
    "id": "0Dg4AFGwOTcj"
   },
   "outputs": [],
   "source": [
    "import numpy as np\n",
    "import pandas as pd\n",
    "import matplotlib.pyplot as plt"
   ]
  },
  {
   "cell_type": "markdown",
   "metadata": {
    "colab_type": "text",
    "id": "dIUzKqsfWw39"
   },
   "source": [
    "### El problema de las casillas\n",
    "\n",
    "Supóngase que se tiene una tabla con 8 casillas donde sólo una puede tomar el valor 1, y las demas el valor 0. La probabilidad de que cualquier casilla tome el valor 1 es igual para todas las casillas.\n",
    "\n",
    "$$\n",
    "\\begin{pmatrix} y_1 & y_2 & y_3 \\\\ y_4 & y_5 & y_6\\end{pmatrix}\n",
    "$$\n",
    "\n",
    "Esto es tal que la prabilidad de $p(Y=y_i)$ para cualquier $i$ es uniforme (donde $Y$ representa la tabale completa), sabemos que  la información necesaria, el número de bits que requerimos para codificar cada disposición de la tabale, es:\n",
    "\n",
    "$$I(y_i) = -\\log p(Y=y_i)$$\n",
    "\n",
    "Y ya que $p(Y=y_i) = \\frac{1}{8}$, tenemos que la información necesarias es igual a 3.\n",
    "\n",
    "Esto es, necesitamos 3 bits para codificar cualquier configuración que pueda tener la tabla."
   ]
  },
  {
   "cell_type": "markdown",
   "metadata": {
    "colab_type": "text",
    "id": "PYiuuPVVY_TV"
   },
   "source": [
    "Nuestras variables serán binarias, por lo que necesitamos definir los valores que  pueden tomar. Estos valores seran 0 y 1, o bien 'si' y  'no'. Para reconstruir la tabla de manera adecuada lo codificaremos por medio de vectores, que representan bits."
   ]
  },
  {
   "cell_type": "code",
   "execution_count": 2,
   "metadata": {
    "colab": {},
    "colab_type": "code",
    "id": "zuxFw1lXS6b1"
   },
   "outputs": [],
   "source": [
    "#bit 0 ó No\n",
    "no = np.array([0,1])\n",
    "#Bit 1 ó sí\n",
    "si = np.array([1,0])"
   ]
  },
  {
   "cell_type": "markdown",
   "metadata": {
    "colab_type": "text",
    "id": "RpHOL_kPbS5B"
   },
   "source": [
    "Ahora, para  codificar cualquier disposición necesitamos 3 bits, o lo que es lo mismo, 3 variables binarias. Estas variables representan preguntas binarias, podemos pensar, entonces que las variables representan las siguientes preguntas:\n",
    "\n",
    "* $X_1$: ¿El uno está en la parte superior de la tabla?\n",
    "* $X_2$: ¿El  uno está en la izuierda de la tabla restante?\n",
    "* $X_3$: ¿El uno está en la casilla de la izquierda?\n",
    "\n",
    "Con esto, responderemos 'sí' o 'no'  hasta representar la  codificación adecuada. Por ejemplo:"
   ]
  },
  {
   "cell_type": "code",
   "execution_count": 3,
   "metadata": {
    "colab": {},
    "colab_type": "code",
    "id": "xlXZ31AJbZpT"
   },
   "outputs": [],
   "source": [
    "#Codificación\n",
    "cod = [si,si,si]"
   ]
  },
  {
   "cell_type": "markdown",
   "metadata": {
    "colab_type": "text",
    "id": "ElkW-Zk3bjHu"
   },
   "source": [
    "Finalmente, a partir de esta codificación, podemos reconstruir la tabla completa con el uno en la casilla adecuada:"
   ]
  },
  {
   "cell_type": "code",
   "execution_count": 4,
   "metadata": {
    "colab": {
     "base_uri": "https://localhost:8080/",
     "height": 51
    },
    "colab_type": "code",
    "id": "XYWGJCbzbkAW",
    "outputId": "df340a57-07f7-41a7-af11-24b9824c1726"
   },
   "outputs": [
    {
     "name": "stdout",
     "output_type": "stream",
     "text": [
      "[[1 0 0 0]\n",
      " [0 0 0 0]]\n"
     ]
    }
   ],
   "source": [
    "#reconstrucción de la tabla\n",
    "tabla = np.outer(np.outer(cod[0],cod[1]),cod[2]).reshape(2,4)\n",
    "print(tabla)"
   ]
  },
  {
   "cell_type": "markdown",
   "metadata": {
    "colab_type": "text",
    "id": "F4ZO75KUbaMW"
   },
   "source": [
    "### Selección de variables informativas\n",
    "\n",
    "De manera similar, cuando tenemos una serie de objetos caracterizados por un conjunto de variables, podemos determinar cuánta información es aportada por cada una de estas variables. De esta forma, podemos darnos una idea de cuáles son las variables que mejor representan  los datos (sin embargo, debe notarse que la  información no depende de los objetos o clases, sino únicamente de las variables; para ser más precisos en la selección de las variables, deben utilizarse distribuciones conjuntas o condicionales).\n",
    "\n",
    "Por ejemplo, considérese los siguientes datos:"
   ]
  },
  {
   "cell_type": "code",
   "execution_count": 5,
   "metadata": {
    "colab": {
     "base_uri": "https://localhost:8080/",
     "height": 173
    },
    "colab_type": "code",
    "id": "hLuh7bCtOaih",
    "outputId": "cb0835de-b6c6-4b71-f21d-54da33840332"
   },
   "outputs": [
    {
     "data": {
      "text/html": [
       "<div>\n",
       "<style scoped>\n",
       "    .dataframe tbody tr th:only-of-type {\n",
       "        vertical-align: middle;\n",
       "    }\n",
       "\n",
       "    .dataframe tbody tr th {\n",
       "        vertical-align: top;\n",
       "    }\n",
       "\n",
       "    .dataframe thead th {\n",
       "        text-align: right;\n",
       "    }\n",
       "</style>\n",
       "<table border=\"1\" class=\"dataframe\">\n",
       "  <thead>\n",
       "    <tr style=\"text-align: right;\">\n",
       "      <th></th>\n",
       "      <th>Doméstico</th>\n",
       "      <th>Animal</th>\n",
       "      <th>Felino</th>\n",
       "      <th>Cánido</th>\n",
       "      <th>Carnívoro</th>\n",
       "      <th>Grande</th>\n",
       "    </tr>\n",
       "  </thead>\n",
       "  <tbody>\n",
       "    <tr>\n",
       "      <th>gato</th>\n",
       "      <td>1</td>\n",
       "      <td>1</td>\n",
       "      <td>1</td>\n",
       "      <td>0</td>\n",
       "      <td>1</td>\n",
       "      <td>0</td>\n",
       "    </tr>\n",
       "    <tr>\n",
       "      <th>perro</th>\n",
       "      <td>1</td>\n",
       "      <td>1</td>\n",
       "      <td>0</td>\n",
       "      <td>1</td>\n",
       "      <td>1</td>\n",
       "      <td>1</td>\n",
       "    </tr>\n",
       "    <tr>\n",
       "      <th>tigre</th>\n",
       "      <td>0</td>\n",
       "      <td>1</td>\n",
       "      <td>1</td>\n",
       "      <td>0</td>\n",
       "      <td>1</td>\n",
       "      <td>1</td>\n",
       "    </tr>\n",
       "    <tr>\n",
       "      <th>lobo</th>\n",
       "      <td>0</td>\n",
       "      <td>1</td>\n",
       "      <td>0</td>\n",
       "      <td>1</td>\n",
       "      <td>1</td>\n",
       "      <td>1</td>\n",
       "    </tr>\n",
       "  </tbody>\n",
       "</table>\n",
       "</div>"
      ],
      "text/plain": [
       "       Doméstico  Animal  Felino  Cánido  Carnívoro  Grande\n",
       "gato           1       1       1       0          1       0\n",
       "perro          1       1       0       1          1       1\n",
       "tigre          0       1       1       0          1       1\n",
       "lobo           0       1       0       1          1       1"
      ]
     },
     "execution_count": 5,
     "metadata": {},
     "output_type": "execute_result"
    }
   ],
   "source": [
    "#Objetos o clases\n",
    "targets = ['gato','perro','tigre','lobo']\n",
    "#Variables\n",
    "variables = ['Doméstico','Animal','Felino','Cánido','Carnívoro','Grande']\n",
    "\n",
    "#valores de las variables\n",
    "datos = np.array([[1,1,1,0,1,0],[1,1,0,1,1,1],[0,1,1,0,1,1],[0,1,0,1,1,1]])\n",
    "\n",
    "#Creación de tabla para visualización\n",
    "X = pd.DataFrame(data=datos, index=targets, columns=variables)\n",
    "\n",
    "X"
   ]
  },
  {
   "cell_type": "markdown",
   "metadata": {
    "colab_type": "text",
    "id": "5LKWNKPGchYa"
   },
   "source": [
    "Recordemos que la información nos dice cuántos bits son los mínimos para codificar los datos. Sin embargo, no siempre se puede alcanzar este mínimo, pues dependemos del tipo de variables con que ya contamos, si estás no separán los datos, resultará  complidado obtener nueva información relevante."
   ]
  },
  {
   "cell_type": "code",
   "execution_count": 6,
   "metadata": {
    "colab": {
     "base_uri": "https://localhost:8080/",
     "height": 34
    },
    "colab_type": "code",
    "id": "a61nl514P1KM",
    "outputId": "e2487917-6653-47e4-e726-10af12cd571b"
   },
   "outputs": [
    {
     "name": "stdout",
     "output_type": "stream",
     "text": [
      "Bits necesarios para codificación: 2.0\n"
     ]
    }
   ],
   "source": [
    "#Información\n",
    "print('Bits necesarios para codificación:', np.log2(len(targets)))"
   ]
  },
  {
   "cell_type": "markdown",
   "metadata": {
    "colab_type": "text",
    "id": "uP29rQbbc_jN"
   },
   "source": [
    "Ahora podemos obtener la información para cada variable como:\n",
    "\n",
    "$$I(X_i) = -\\log p_i$$\n",
    "\n",
    "En este caso, dado que las variables sólo tienen dos  valores, cada una de estás tendrá  una distribución Bernoulli con parámetro $p_i$. Este parámetro representa la probabilidad y puede estimarse como $p_i = \\mathbb{E}[X] \\approx \\frac{1}{N}\\sum_x x_i$, tal que $x_i$ es un valor tomado por la variable $X_i$. "
   ]
  },
  {
   "cell_type": "code",
   "execution_count": 7,
   "metadata": {
    "colab": {
     "base_uri": "https://localhost:8080/",
     "height": 324
    },
    "colab_type": "code",
    "id": "jnk6tlbFReAg",
    "outputId": "e3c751fb-1271-4040-a3ec-953430a7c06e"
   },
   "outputs": [
    {
     "data": {
      "image/png": "[encoded data removed]",
      "text/plain": [
       "<Figure size 432x288 with 1 Axes>"
      ]
     },
     "metadata": {
      "needs_background": "light"
     },
     "output_type": "display_data"
    }
   ],
   "source": [
    "#Estimación de probabilidades\n",
    "p = X.sum(0)/X.sum(0).sum(0)\n",
    "#Información\n",
    "I = -np.log2(p)\n",
    "\n",
    "#Visualización de la información\n",
    "I.plot.bar()\n",
    "plt.title('Información por variable')\n",
    "plt.ylabel('Información (bits)')\n",
    "plt.show()"
   ]
  },
  {
   "cell_type": "markdown",
   "metadata": {
    "colab_type": "text",
    "id": "lx0gpPCCeLGY"
   },
   "source": [
    "De tal forma, que podemos quedarnos únicamente con las variables más informativas. Más aún, ya que la información para codificar todo el sistema, podemos tomar únicamente dos de estas variables."
   ]
  },
  {
   "cell_type": "code",
   "execution_count": 8,
   "metadata": {
    "colab": {
     "base_uri": "https://localhost:8080/",
     "height": 173
    },
    "colab_type": "code",
    "id": "DdROCEJUQKNL",
    "outputId": "16407354-9c9e-4ae3-efc4-ed176ad00708"
   },
   "outputs": [
    {
     "data": {
      "text/html": [
       "<div>\n",
       "<style scoped>\n",
       "    .dataframe tbody tr th:only-of-type {\n",
       "        vertical-align: middle;\n",
       "    }\n",
       "\n",
       "    .dataframe tbody tr th {\n",
       "        vertical-align: top;\n",
       "    }\n",
       "\n",
       "    .dataframe thead th {\n",
       "        text-align: right;\n",
       "    }\n",
       "</style>\n",
       "<table border=\"1\" class=\"dataframe\">\n",
       "  <thead>\n",
       "    <tr style=\"text-align: right;\">\n",
       "      <th></th>\n",
       "      <th>Doméstico</th>\n",
       "      <th>Felino</th>\n",
       "    </tr>\n",
       "  </thead>\n",
       "  <tbody>\n",
       "    <tr>\n",
       "      <th>gato</th>\n",
       "      <td>1</td>\n",
       "      <td>1</td>\n",
       "    </tr>\n",
       "    <tr>\n",
       "      <th>perro</th>\n",
       "      <td>1</td>\n",
       "      <td>0</td>\n",
       "    </tr>\n",
       "    <tr>\n",
       "      <th>tigre</th>\n",
       "      <td>0</td>\n",
       "      <td>1</td>\n",
       "    </tr>\n",
       "    <tr>\n",
       "      <th>lobo</th>\n",
       "      <td>0</td>\n",
       "      <td>0</td>\n",
       "    </tr>\n",
       "  </tbody>\n",
       "</table>\n",
       "</div>"
      ],
      "text/plain": [
       "       Doméstico  Felino\n",
       "gato           1       1\n",
       "perro          1       0\n",
       "tigre          0       1\n",
       "lobo           0       0"
      ]
     },
     "execution_count": 8,
     "metadata": {},
     "output_type": "execute_result"
    }
   ],
   "source": [
    "Xcod = X.drop(['Animal','Cánido','Carnívoro','Grande'],  axis=1)\n",
    "\n",
    "Xcod"
   ]
  },
  {
   "cell_type": "markdown",
   "metadata": {
    "colab_type": "text",
    "id": "nJAamw53ec8I"
   },
   "source": [
    "Y podemos ver que esto nos permite discriminar los datos  en sus respectivas clases:"
   ]
  },
  {
   "cell_type": "code",
   "execution_count": 9,
   "metadata": {
    "colab": {
     "base_uri": "https://localhost:8080/",
     "height": 279
    },
    "colab_type": "code",
    "id": "s-ua2S1PTt1W",
    "outputId": "f4f3d571-88c2-4c85-f837-42dfdd5350ac"
   },
   "outputs": [
    {
     "data": {
      "image/png": "[encoded data removed]",
      "text/plain": [
       "<Figure size 432x288 with 1 Axes>"
      ]
     },
     "metadata": {
      "needs_background": "light"
     },
     "output_type": "display_data"
    }
   ],
   "source": [
    "#Ploteo de datos\n",
    "fig, ax = plt.subplots()\n",
    "ax_labs = Xcod.columns\n",
    "Xcod.plot(ax_labs[0],ax_labs[1], kind='scatter', ax=ax)\n",
    "\n",
    "#Labels\n",
    "for k, v in Xcod.iterrows():\n",
    "    ax.annotate(k, v)\n",
    "\n",
    "fig.canvas.draw\n",
    "plt.show()"
   ]
  },
  {
   "cell_type": "code",
   "execution_count": null,
   "metadata": {},
   "outputs": [],
   "source": []
  }
 ],
 "metadata": {
  "accelerator": "GPU",
  "colab": {
   "collapsed_sections": [],
   "name": "Información.ipynb",
   "provenance": []
  },
  "kernelspec": {
   "display_name": "Python 3",
   "language": "python",
   "name": "python3"
  },
  "language_info": {
   "codemirror_mode": {
    "name": "ipython",
    "version": 3
   },
   "file_extension": ".py",
   "mimetype": "text/x-python",
   "name": "python",
   "nbconvert_exporter": "python",
   "pygments_lexer": "ipython3",
   "version": "3.8.5"
  }
 },
 "nbformat": 4,
 "nbformat_minor": 1
}
