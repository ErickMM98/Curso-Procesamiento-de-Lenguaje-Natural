{
 "cells": [
  {
   "cell_type": "markdown",
   "metadata": {},
   "source": [
    "# Aproximación a la curva de Zipf"
   ]
  },
  {
   "cell_type": "markdown",
   "metadata": {},
   "source": [
    "La ley de Zipf nos dice que dada la frecuencia de una palabra $fr$ y su rango estadístico $r$, tenemos que: \n",
    "\n",
    "$$fr \\propto r^{-\\alpha}$$\n",
    "\n",
    "\n",
    "donde $\\alpha$ es un parámetro.\n",
    "\n",
    "Aquí nos proponemos ver esta distribución y analizar una forma de linearizarla para aproximarla por un método de regresión.\n",
    "\n",
    "Tomemos un corpus y obtengamos sus rangos y sus frecuencias."
   ]
  },
  {
   "cell_type": "code",
   "execution_count": 1,
   "metadata": {},
   "outputs": [
    {
     "name": "stdout",
     "output_type": "stream",
     "text": [
      "Tokens: 4562 \n",
      " Tipos: 1840\n"
     ]
    }
   ],
   "source": [
    "from collections import Counter\n",
    "from re import sub\n",
    "from scipy.optimize import minimize as min\n",
    "from operator import itemgetter\n",
    "import matplotlib.pyplot as plt\n",
    "import numpy as np\n",
    "\n",
    "#Abrir el documento\n",
    "text = open('corpus_TI.txt','r',encoding='utf-8').read()\n",
    "#Limpiar y tokenizar\n",
    "tokens = sub(r'[^\\w\\s]','',text.strip().lower()).split()\n",
    "#optener frecuencias\n",
    "frecs = np.array(sorted(Counter(tokens).values(), reverse=True))\n",
    "\n",
    "print('Tokens: {} \\n Tipos: {}'.format(len(tokens), len(frecs)))"
   ]
  },
  {
   "cell_type": "code",
   "execution_count": 2,
   "metadata": {},
   "outputs": [
    {
     "data": {
      "image/png": "[encoded data removed]",
      "text/plain": [
       "<Figure size 432x288 with 1 Axes>"
      ]
     },
     "metadata": {
      "needs_background": "light"
     },
     "output_type": "display_data"
    }
   ],
   "source": [
    "#Obtención de los ranks\n",
    "ranks = np.array(range(1,len(frecs)+1))\n",
    "\n",
    "#Ploteo de la curva\n",
    "plt.scatter(ranks,frecs)\n",
    "plt.xlabel('rango')\n",
    "plt.ylabel('frecuencia')\n",
    "plt.title('Curva de Zipf')\n",
    "plt.show()"
   ]
  },
  {
   "cell_type": "markdown",
   "metadata": {},
   "source": [
    "Observamos que, en efecto, la curva así obtenida tiene una forma que recuerda a la función $\\frac{1}{x}$. Sin embargo, podemos \"linearizar\" esta distribución a partir del logaritmo. "
   ]
  },
  {
   "cell_type": "code",
   "execution_count": 3,
   "metadata": {},
   "outputs": [
    {
     "data": {
      "image/png": "[encoded data removed]",
      "text/plain": [
       "<Figure size 432x288 with 1 Axes>"
      ]
     },
     "metadata": {
      "needs_background": "light"
     },
     "output_type": "display_data"
    }
   ],
   "source": [
    "#Obtención de logaritmos\n",
    "log_ranks = np.log(ranks)\n",
    "log_frecs = np.log(frecs)\n",
    "\n",
    "#Ploteo en escala logaritmoca\n",
    "plt.scatter(log_ranks,log_frecs)\n",
    "plt.xlabel('log rango')\n",
    "plt.ylabel('log frecuencia')\n",
    "plt.title('Curva de Zipf (log)')\n",
    "plt.show()"
   ]
  },
  {
   "cell_type": "markdown",
   "metadata": {},
   "source": [
    "### Análisis estadístico\n",
    "\n",
    "Como se puede observar en la gráfica en escala logarítmica, existe una correlación entre ambas variables. Podemos determinar el valor de dicha correlación a partir de estudiar el comportamiento estadístico de ambas variables. En primer lugar, podemos observar como se comportan las medias empíricas de estas variables. Para determinar esto, simplemente calcularemos:\n",
    "\n",
    "$$\\hat{\\mu} = \\frac{1}{N} \\sum_i X_i$$"
   ]
  },
  {
   "cell_type": "code",
   "execution_count": 4,
   "metadata": {},
   "outputs": [
    {
     "name": "stdout",
     "output_type": "stream",
     "text": [
      "Media empírica de log rangos: 6.520063102911923\n",
      "Media empírica de log frecuencias: 0.2677071309029529\n"
     ]
    }
   ],
   "source": [
    "#Número de valores\n",
    "N = len(log_ranks)\n",
    "#Media de rangos\n",
    "m_r = (1./N)*log_ranks.sum(0)\n",
    "#Media de frecuencias\n",
    "m_f = (1./N)*log_frecs.sum(0)\n",
    "\n",
    "print('Media empírica de log rangos:', m_r)\n",
    "print('Media empírica de log frecuencias:', m_f)"
   ]
  },
  {
   "cell_type": "markdown",
   "metadata": {},
   "source": [
    "A partir de la media podemos determinar el valor de la varianza empírica. Esta esta definida como sigue:\n",
    "\n",
    "$$\\hat{var} = \\frac{1}{N}\\sum_i (X_i - \\hat{\\mu})^2$$\n",
    "\n",
    "Y a partir de la varianza podemos determinar la desviación estándar empírica en los siguientes términos.\n",
    "\n",
    "$$\\hat{\\sigma} = \\sqrt{\\hat{var}}$$"
   ]
  },
  {
   "cell_type": "code",
   "execution_count": 5,
   "metadata": {},
   "outputs": [
    {
     "name": "stdout",
     "output_type": "stream",
     "text": [
      "Desviación estándar log rangos: 0.9905160054556698\n",
      "Desviación estándar log frecuencias: 0.6673717273139506\n"
     ]
    }
   ],
   "source": [
    "#Varianza rangos\n",
    "v_r = (1./N)*((log_ranks-m_r)**2).sum(0)\n",
    "#Varianza frecuencias\n",
    "v_f = (1./N)*((log_frecs-m_f)**2).sum(0)\n",
    "\n",
    "#Desviación estándar rangos\n",
    "s_r = np.sqrt(v_r)\n",
    "#Desviación estándar frecuencias\n",
    "s_f = np.sqrt(v_f)\n",
    "\n",
    "print('Desviación estándar log rangos:', s_r)\n",
    "print('Desviación estándar log frecuencias:', s_f)"
   ]
  },
  {
   "cell_type": "markdown",
   "metadata": {},
   "source": [
    "Finalmente, a partir de estos valores podemos definir un índice de correlación (la correlación de Pearson) a partir de la siguiente fórmula:\n",
    "\n",
    "$$\\rho(X,Y) = \\frac{1}{N}\\frac{\\sum_i (X_i-\\mu_X)(Y_i - \\mu_Y)}{\\hat{\\sigma_X}\\hat{\\sigma_Y}}$$"
   ]
  },
  {
   "cell_type": "code",
   "execution_count": 6,
   "metadata": {},
   "outputs": [
    {
     "name": "stdout",
     "output_type": "stream",
     "text": [
      "Corrlación log rangos-log frecuencias: -0.9046107888045255\n"
     ]
    }
   ],
   "source": [
    "cov = (1./N)*np.dot(log_ranks-m_r,log_frecs-m_f)\n",
    "corr = cov/(s_r*s_f)\n",
    "\n",
    "print('Corrlación log rangos-log frecuencias:', corr)"
   ]
  },
  {
   "cell_type": "markdown",
   "metadata": {},
   "source": [
    "Este índice de correlación aúnta que las variables de rango y aprendizaje se relacionan fuertemente de manera negativa. Es decir, es inversamente proporcional (lo que señala la ley de Zip), entre más crezca el logaritmo del rango, decrece el logaritmo de la frecuencia. De tal forma, que, podemos tomar esta correlación como un parámetro de tal forma que:\n",
    "\n",
    "$$\\log fr \\approx \\rho(r,fr)\\log r$$"
   ]
  },
  {
   "cell_type": "code",
   "execution_count": 7,
   "metadata": {
    "scrolled": true
   },
   "outputs": [
    {
     "data": {
      "image/png": "[encoded data removed]",
      "text/plain": [
       "<Figure size 432x288 with 1 Axes>"
      ]
     },
     "metadata": {
      "needs_background": "light"
     },
     "output_type": "display_data"
    }
   ],
   "source": [
    "plt.scatter(log_ranks,log_frecs, label='Empirical data', s=4)\n",
    "plt.plot(log_ranks,corr*log_ranks+ log_frecs[0], color='g', label='Correlación lineal')\n",
    "plt.title('Correlación entre el rango y la frecuencia (logaritmos)')\n",
    "plt.xlabel('log ranks')\n",
    "plt.ylabel('log frecs')\n",
    "plt.legend(bbox_to_anchor=(1, 1))\n",
    "plt.show()"
   ]
  },
  {
   "cell_type": "markdown",
   "metadata": {},
   "source": [
    "### Estimación por minimización\n",
    "\n",
    "Esta es la forma común de observar la distribución de Zipf, pues en escala logarítmica, podemos decir que existe una dependencia lineal entre las palabras.\n",
    "\n",
    "Así, podemos definir una función para aproximar esta distribución, dada por:\n",
    "\n",
    "$$\\log \\hat{fr} = q \\log r + \\log b$$\n",
    "\n",
    "Donde $b$ es la mayor frecuencia en los datos. En este caso, $q$ es un parámetro que aproxima la frecuencia en escala logaritmica. \n",
    "\n",
    "Para encontrar el valor de $q$ definiremos el error cuadrático medio como_\n",
    "\n",
    "$$MSE(q) = \\sum_r || \\log \\hat{fr} - log fr||^2$$\n",
    "\n",
    "Iniciamos el valor de $q=1$ y calculamos su MSE."
   ]
  },
  {
   "cell_type": "code",
   "execution_count": 8,
   "metadata": {
    "scrolled": true
   },
   "outputs": [
    {
     "name": "stdout",
     "output_type": "stream",
     "text": [
      "263236.6866959971\n"
     ]
    }
   ],
   "source": [
    "#Función de minimización\n",
    "func = lambda a: sum(((a*log_ranks + log_frecs[0])-log_frecs)**2)\n",
    "#Inicialización\n",
    "a0 = 1\n",
    "\n",
    "print(func(a0))"
   ]
  },
  {
   "cell_type": "markdown",
   "metadata": {},
   "source": [
    "Ya que esta función es lineal, podemos ver el problema de minimizar este error como una regresión lineal y así aproximar un valor de $q$ que minimice el error:"
   ]
  },
  {
   "cell_type": "code",
   "execution_count": 9,
   "metadata": {},
   "outputs": [
    {
     "name": "stdout",
     "output_type": "stream",
     "text": [
      "valor: -0.812892083717865 \n",
      "MSE: 225.29804828761627\n"
     ]
    }
   ],
   "source": [
    "#Minimización\n",
    "a_hat = min(func, a0).x[0]\n",
    "\n",
    "print('valor:',a_hat, '\\nMSE:',func(a_hat))"
   ]
  },
  {
   "cell_type": "markdown",
   "metadata": {},
   "source": [
    "Claramente, se trata de un valor negativo, pues la recta es descendiente (tiene pendiente negativa). Para ver que también se aproxima, podemos graficar la aproximación y los valores originales."
   ]
  },
  {
   "cell_type": "code",
   "execution_count": 10,
   "metadata": {
    "scrolled": true
   },
   "outputs": [
    {
     "data": {
      "image/png": "[encoded data removed]",
      "text/plain": [
       "<Figure size 432x288 with 1 Axes>"
      ]
     },
     "metadata": {
      "needs_background": "light"
     },
     "output_type": "display_data"
    }
   ],
   "source": [
    "plt.scatter(log_ranks,log_frecs, label='Empirical data', s=4)\n",
    "plt.plot(log_ranks,a_hat*log_ranks+ log_frecs[0], color='r', label='Min approx')\n",
    "plt.title('Aproximación a Zipf')\n",
    "plt.xlabel('log ranks')\n",
    "plt.ylabel('log frecs')\n",
    "plt.legend(bbox_to_anchor=(1, 1))\n",
    "plt.show()"
   ]
  },
  {
   "cell_type": "markdown",
   "metadata": {},
   "source": [
    "Tenemos además que resolviendo la función: $$exp[\\log \\hat{fr}] = exp[q \\log r + \\log b]$$\n",
    "\n",
    "Obtenemos que:\n",
    "\n",
    "$$\\hat{fr} = br^q$$\n",
    "\n",
    "Ya que el valor es negativo, podemos tomar $q = -\\alpha$, con $\\alpha$ positivo, y de esta forma tenemos que $\\hat{fr} = \\frac{b}{r^\\alpha}$, ya que $b$ es una constante, tenemos que $\\hat{fr} \\propto \\frac{1}{r^\\alpha} = r^q$. \n",
    "\n",
    "Es decir, hemos encontrado una aproximación al parámetro $\\alpha$ de la distribución de Zipf."
   ]
  },
  {
   "cell_type": "markdown",
   "metadata": {},
   "source": [
    "## Comparación de funciones\n",
    "\n",
    "Las aproximaciones a la frecuencia de las palabras pueden variar. Así, diferentes funciones de probabilidad pueden calcularse. Un enfoque común, es la probabilidad frecuentista, donde la función de probabilidad se calcula como:\n",
    "\n",
    "$$p_{fr}(w) = \\frac{fr(w)}{N}$$\n",
    "\n",
    "Donde $N=\\sum_{w'}fr(w')$ es el total de tokens en el corpus."
   ]
  },
  {
   "cell_type": "code",
   "execution_count": 11,
   "metadata": {},
   "outputs": [
    {
     "name": "stdout",
     "output_type": "stream",
     "text": [
      "1.0\n"
     ]
    }
   ],
   "source": [
    "N = sum(frecs)\n",
    "p_fr = np.array([float(fr)/N for fr in frecs])\n",
    "print(p_fr.sum(0))"
   ]
  },
  {
   "cell_type": "markdown",
   "metadata": {},
   "source": [
    "En la función de probabilidad de la distribución Zipf, es común tomar el parámetro $\\alpha=1$. De tal forma que:\n",
    "\n",
    "$$p_z(r; \\alpha=1)= \\frac{r^{-1}}{\\sum_{k} k^{-1}}$$ "
   ]
  },
  {
   "cell_type": "code",
   "execution_count": 12,
   "metadata": {},
   "outputs": [
    {
     "name": "stdout",
     "output_type": "stream",
     "text": [
      "0.9999999999999998\n"
     ]
    }
   ],
   "source": [
    "p_zipf1 = 1./np.array(ranks)\n",
    "p_zipf1 = p_zipf1/p_zipf1.sum(0)\n",
    "print(p_zipf1.sum(0))"
   ]
  },
  {
   "cell_type": "markdown",
   "metadata": {},
   "source": [
    "Finalmente, la aproximación del parámetro usando MSE se determina como:\n",
    "\n",
    "$$p_z(r; \\alpha)= \\frac{r^{\\alpha}}{\\sum_{k} k^{\\alpha}}$$ "
   ]
  },
  {
   "cell_type": "code",
   "execution_count": 13,
   "metadata": {},
   "outputs": [
    {
     "name": "stdout",
     "output_type": "stream",
     "text": [
      "1.0\n"
     ]
    }
   ],
   "source": [
    "p_zipf_ap = ranks**a_hat\n",
    "p_zipf_ap = p_zipf_ap/p_zipf_ap.sum(0)\n",
    "print(p_zipf_ap.sum(0))"
   ]
  },
  {
   "cell_type": "markdown",
   "metadata": {},
   "source": [
    "Tambiém podemos utilizar el coeficiente de correlación para estimar la probabilidad en la distribución de zipf."
   ]
  },
  {
   "cell_type": "code",
   "execution_count": 14,
   "metadata": {},
   "outputs": [
    {
     "name": "stdout",
     "output_type": "stream",
     "text": [
      "0.9999999999999999\n"
     ]
    }
   ],
   "source": [
    "p_zipf_corr = ranks**corr\n",
    "p_zipf_corr = p_zipf_corr/p_zipf_corr.sum(0)\n",
    "print(p_zipf_corr.sum(0))"
   ]
  },
  {
   "cell_type": "markdown",
   "metadata": {},
   "source": [
    "De esta forma, contamos con varias funciones de probabilidad. Por tanto, podemos medir la divergencia entre estas funciones de probabilidad. Si $q$ y $p$ son funciones de probabilidad sobre la misma variable, entonces, calculamos la divergencia de Kullbakc-Leibler como:\n",
    "\n",
    "$$D[q||p] = \\sum_x q(x) \\log \\frac{q(x)}{p(x)}$$"
   ]
  },
  {
   "cell_type": "code",
   "execution_count": 15,
   "metadata": {},
   "outputs": [],
   "source": [
    "#Divergencia KL\n",
    "D_kl = lambda q,p: (q*np.log(q/p)).sum(0)"
   ]
  },
  {
   "cell_type": "markdown",
   "metadata": {},
   "source": [
    "Podemos obtener las divergencias entre cada uno de las funciones de probabilidad:"
   ]
  },
  {
   "cell_type": "code",
   "execution_count": 16,
   "metadata": {},
   "outputs": [
    {
     "name": "stdout",
     "output_type": "stream",
     "text": [
      "Divergencia frecuencia relativa y Zipf con a=1 \t 0.10012376734505235\n",
      "Divergencia frecuencia relativa y Zipf MSE approx \t 0.05855630137001688\n",
      "Divergencia correlación y Zipf MSE approx \t 0.02159006943350872\n",
      "Divergencia Zipf con a=1 y MSE approx \t 0.092614247222803\n"
     ]
    }
   ],
   "source": [
    "print( 'Divergencia frecuencia relativa y Zipf con a=1 \\t', D_kl(p_fr,p_zipf1) )\n",
    "print( 'Divergencia frecuencia relativa y Zipf MSE approx \\t',D_kl(p_fr,p_zipf_ap) )\n",
    "print( 'Divergencia correlación y Zipf MSE approx \\t',D_kl(p_zipf_corr,p_zipf_ap) )\n",
    "print( 'Divergencia Zipf con a=1 y MSE approx \\t',D_kl(p_zipf1,p_zipf_ap) )"
   ]
  },
  {
   "cell_type": "markdown",
   "metadata": {},
   "source": [
    "De igual forma podemos determinar la entropía cruzada empírica para cada una de las funciones de probabilidad de la forma:\n",
    "\n",
    "$$H_E(X,p) = -\\frac{1}{N} \\sum_{i=1}^N \\log p(x_i)$$"
   ]
  },
  {
   "cell_type": "code",
   "execution_count": 17,
   "metadata": {},
   "outputs": [],
   "source": [
    "#Entropía cruzada empírica\n",
    "H_E = lambda p: -np.log(p).sum(0)/len(p)"
   ]
  },
  {
   "cell_type": "code",
   "execution_count": 18,
   "metadata": {},
   "outputs": [
    {
     "name": "stdout",
     "output_type": "stream",
     "text": [
      "Prob. frecuentista \t 8.157809271941383\n",
      "Prob. Zipf con a=1 \t 8.611310706720554\n",
      "Prob. Zipf correlación \t 8.345862083701778\n",
      "Prob. Zipf MSE aprox. \t 8.135455443851821\n"
     ]
    }
   ],
   "source": [
    "print( 'Prob. frecuentista \\t', H_E(p_fr) )\n",
    "print( 'Prob. Zipf con a=1 \\t', H_E(p_zipf1) )\n",
    "print( 'Prob. Zipf correlación \\t', H_E(p_zipf_corr) )\n",
    "print( 'Prob. Zipf MSE aprox. \\t', H_E(p_zipf_ap) )"
   ]
  },
  {
   "cell_type": "markdown",
   "metadata": {},
   "source": [
    "Visualmente, podemos observar cómo es que las estimaciones hechas se ajustan a la recta en escala logarítmica."
   ]
  },
  {
   "cell_type": "code",
   "execution_count": 19,
   "metadata": {},
   "outputs": [
    {
     "data": {
      "image/png": "[encoded data removed]",
      "text/plain": [
       "<Figure size 432x288 with 1 Axes>"
      ]
     },
     "metadata": {
      "needs_background": "light"
     },
     "output_type": "display_data"
    }
   ],
   "source": [
    "plt.scatter(log_ranks,log_frecs, label='Empirical data', s=4)\n",
    "plt.plot(log_ranks,a_hat*log_ranks+ log_frecs[0], color='r', label='Min approx')\n",
    "plt.plot(log_ranks,corr*log_ranks+ log_frecs[0], color='y', label='Correlación lineal')\n",
    "plt.plot(log_ranks,-log_ranks+ log_frecs[0], color='g', label='a=1')\n",
    "plt.title('Aproximaciones a Zipf')\n",
    "plt.xlabel('log ranks')\n",
    "plt.ylabel('log frecs')\n",
    "plt.legend(bbox_to_anchor=(1, 1))\n",
    "plt.show()"
   ]
  },
  {
   "cell_type": "markdown",
   "metadata": {},
   "source": [
    "En general, minimizar el error cuadrático medio equivale a minimizar la entropía cruzada empírica; por tanto, la función de probabilidad obtenida con el método de MSE tiene la menor entropía cruzada emprica."
   ]
  },
  {
   "cell_type": "markdown",
   "metadata": {},
   "source": [
    "## Generación de lenguaje con Zipf\n",
    "\n",
    "La distribución probabilística de las palabras determinada por Zipf puede utilizarse para hacer una aproximación a las probabilidades de cadenas en el lenguaje. Esto es lo que Claude E. Shannon llamó una aproximación de orden 1; es decir, las cadenas de un lenguaje se aproximan asumiendo que existe independencia entre cada palabra. Por tanto, si tenemos una cadena $w_1 w_2 \\cdots w_n \\in \\Sigma^*$ su probabilidad será:\n",
    "\n",
    "$$p(w_1 w_2 \\cdots w_n) = \\prod_{i=1}^n p(w_i)$$\n",
    "\n",
    "Donde $p(w_i)$ estará dado, en este caso, por la probabilidad de Zipf. Las probabilidades de cadenas son de suma importancia en NLP, pues definen lo que se llama un <b>modelo del lenguaje</b>.\n",
    "\n",
    "La probabilidad de Zipf define un modelo de lenguaje muy simple (orden 1). Una de las aplicaciones de los modelos del lenguaje es generar cadenas en un lenguaje dado. Podemos ver esto con la aproximación de Zipf."
   ]
  },
  {
   "cell_type": "code",
   "execution_count": 20,
   "metadata": {},
   "outputs": [
    {
     "name": "stdout",
     "output_type": "stream",
     "text": [
      "el asombró con las infinito un catadura enumeración busqué un comedor tierra alfajor engañado con mucho cajón apartaba glosarios queensland una la trabajaba temí se minutos y espectáculos imaginación hubo íntimo los imaginación luz le tenía nacionales vapor la plan voz 1941 bolsas los rapidez en mucho un bilingüe sótano acto de agitadísimo entonces almuerzo de todos la hubo breve establecimiento quinta adorado ese asombró la de nos encontrar les para con solo breve alejarse poste cajones su argentino aborrecida considerable de apoyo de ese de perfil desesperación y galanuras veces escalera del de de un luces cosas desperdicié corrijo vi en colores informe de entonces a algún sé a muy estudio dos el dictaminó sola zunino parecieron la la basta llaman de su casa calificar que y beatriz ese solía aquel lector yo drayton de voto en mano aludía primo unas realidad sí cierto espejo cacofonía superior dos vapor y y estudio otra ilusión copio envidia el el ese la vapor empezó casa drayton cant\n"
     ]
    }
   ],
   "source": [
    "#Genera lista de palabras ordenadas por rango\n",
    "words = [w for w,f in sorted(Counter(tokens).items(), key=itemgetter(1), reverse=True)]\n",
    "\n",
    "#Genera una cadena de longitud dada con base en prob. de Zipf\n",
    "gen = []\n",
    "for k in range(0,10000):\n",
    "    gen.append(np.random.choice(words, p=p_zipf_ap))\n",
    "\n",
    "#Imprime parte de la cadena generada\n",
    "print(' '.join(gen)[:1000])"
   ]
  },
  {
   "cell_type": "markdown",
   "metadata": {},
   "source": [
    "Como podemos ver, el texto generado no tiene mucho sentido, pues la suposición que hemos hecho es que las palabras son independientes. Sin embargo, esto es completamente falso para el lenguaje natural, pues sin duda la estructura lingüística exige que exista dependencia entre cada una de las palabras. \n",
    "\n",
    "A pesar de esta poca lógica del texto, podemos ver que en esta cadena las palabras cumplen la ley de Zipf, es decir, las palabras con mayor rango aparecen más que las primeras."
   ]
  },
  {
   "cell_type": "code",
   "execution_count": 22,
   "metadata": {},
   "outputs": [
    {
     "data": {
      "image/png": "[encoded data removed]",
      "text/plain": [
       "<Figure size 432x288 with 1 Axes>"
      ]
     },
     "metadata": {
      "needs_background": "light"
     },
     "output_type": "display_data"
    }
   ],
   "source": [
    "plt.plot(sorted(Counter(gen).values(), reverse=True),'o')\n",
    "plt.xscale('log')\n",
    "plt.yscale('log')\n",
    "plt.title('Distribución de texto artificial')\n",
    "plt.xlabel('log rango')\n",
    "plt.ylabel('log frecuencia')\n",
    "plt.show()"
   ]
  },
  {
   "cell_type": "markdown",
   "metadata": {},
   "source": [
    "De esto podemos ver que, si bien todo lenguaje natural cumple la ley de Zipf, si una cadena cumple la ley de Zipf no necesariamente se trata de un lenguaje natural. A partir de de conocer las distribuciones de las palabras podemos generar texto que cumpla la ley de Zipf pero que no tenga la coherencia del lenguaje natural.\n",
    "\n",
    "Para poder hacer que una computadora genere texto más similar al natural necesitamos buscar aproximaciones más complejas (de mayor orden) a las probabilidades de las cadenas. En otras palabras, necesitamos modelos del lenguaje que estimen mejor la distribución de las cadenas en el lenguaje natural."
   ]
  }
 ],
 "metadata": {
  "kernelspec": {
   "display_name": "Python 3",
   "language": "python",
   "name": "python3"
  },
  "language_info": {
   "codemirror_mode": {
    "name": "ipython",
    "version": 3
   },
   "file_extension": ".py",
   "mimetype": "text/x-python",
   "name": "python",
   "nbconvert_exporter": "python",
   "pygments_lexer": "ipython3",
   "version": "3.8.5"
  }
 },
 "nbformat": 4,
 "nbformat_minor": 2
}
