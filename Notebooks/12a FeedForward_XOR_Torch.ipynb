{
  "nbformat": 4,
  "nbformat_minor": 0,
  "metadata": {
    "colab": {
      "name": "FeedForward_XOR_Torch.ipynb",
      "provenance": [],
      "collapsed_sections": []
    },
    "kernelspec": {
      "name": "python3",
      "display_name": "Python 3"
    },
    "language_info": {
      "name": "python"
    }
  },
  "cells": [
    {
      "cell_type": "markdown",
      "metadata": {
        "id": "cnfosJbo6DqM"
      },
      "source": [
        "# Implementación de una red con Pytorch\n",
        "\n",
        "La paqueteríía de PyTorch permite implementar arquitectura de redes neuronales de manera simple. Esta contiene varias funciones y estructuras predeterminadas que puede concatenarse para formar una red de mayor complejidad. \n",
        "\n",
        "Aquí implementamos una red para el problema XOR a partir de las funciones de PyTorch. "
      ]
    },
    {
      "cell_type": "code",
      "metadata": {
        "id": "1CpNbCNk2XOy"
      },
      "source": [
        "import numpy as np\n",
        "import torch\n",
        "import torch.nn as nn\n",
        "import matplotlib.pyplot as plt"
      ],
      "execution_count": 1,
      "outputs": []
    },
    {
      "cell_type": "markdown",
      "metadata": {
        "id": "lIAGL6fI6cIM"
      },
      "source": [
        "### Los datos\n",
        "\n",
        "Pytorch trabaja con tensores. Es decir, nuestros datos deben estar en una estructura correspondiente a los tensores que puede ller PyTorch. Esta paqueteríía probe las herramientas. En este caso utilizaremos dos tipos de codificación:\n",
        "\n",
        "* torch.Tensor(): Es un tensor con elementos de un mismo tipo en que pueden hacerse operaciones tensoriales con flotantes.\n",
        "* torch.LongTensor(): Es un tensor en donde los elementos son iterpretados como enteros. En general, algunas funciones de riesgo (pérdida) requieren que las clases objetivo estén en este formato."
      ]
    },
    {
      "cell_type": "code",
      "metadata": {
        "colab": {
          "base_uri": "https://localhost:8080/",
          "height": 281
        },
        "id": "7jq1b6cq2xkA",
        "outputId": "c50e9155-dd49-48c5-bb22-39787c1c68e7"
      },
      "source": [
        "#Ejemplos formato: Tensor\n",
        "X = torch.Tensor([[1,0],[0,1],[1,1],[0,0]])\n",
        "#Clases formato: LongTensor\n",
        "Y = torch.LongTensor([1,1,0,0])\n",
        "\n",
        "#Visualización de los datos\n",
        "plt.scatter(X[:,0], X[:,1], c=Y)\n",
        "plt.title('Puntos del problema XOR')\n",
        "plt.show()"
      ],
      "execution_count": 2,
      "outputs": [
        {
          "output_type": "display_data",
          "data": {
            "image/png": "[encoded data removed]",
            "text/plain": [
              "<Figure size 432x288 with 1 Axes>"
            ]
          },
          "metadata": {
            "tags": [],
            "needs_background": "light"
          }
        }
      ]
    },
    {
      "cell_type": "markdown",
      "metadata": {
        "id": "VA-teTqw8j7j"
      },
      "source": [
        "## La red neuronal\n",
        "\n",
        "### Definir la arquitectura\n",
        "\n",
        "Para poder aplicar la red necesitamos definir una arquitecturas: es decir, necesitamos definir el número de cpas, las dimensiones ocultas y las funciones de activación en cada capa.\n",
        "En este caso utilizaremos 4 capas ocultas que definiremos con el siguiente número de unidades ocultas."
      ]
    },
    {
      "cell_type": "code",
      "metadata": {
        "id": "rR48F0dg302_"
      },
      "source": [
        "#Dimensión de entrada\n",
        "d = 2\n",
        "#Unidades primera capa\n",
        "m1 = 100\n",
        "#Unidades segunda capa\n",
        "m2 = 150\n",
        "#Unidades tercera capa\n",
        "m3 = 100\n",
        "#Unidades cuarta capa\n",
        "m4 = 2\n",
        "#Neuronas de salida (núm. de clases)\n",
        "o = 2"
      ],
      "execution_count": 3,
      "outputs": []
    },
    {
      "cell_type": "markdown",
      "metadata": {
        "id": "7UPkzB5Y8qCD"
      },
      "source": [
        "Ahora definiremos la red, para esto ocuparemos la funcióón $nn.Sequential()$ (pero también se puede definir cada capa de forma independiente). Lo que hace esta función es indicar la secuencia en que se aplicarán las capas. Así mismo se elegirán el tipo de activación en cada capa. En la capa de salida es usual utilizar la activación Softmax. \n",
        "\n",
        "Algunos tipos de funciones de activacióón con las que pytorch cuenta son:\n",
        "\n",
        "* nn.Sigmoid(): Función sigmoide $\\sigma(a) = \\frac{1}{1+e^{-a}}$\n",
        "* nn.Tanh(): Función tangente hiperbóólica $tanh(a) = \\frac{e^a-e^{-a}}{e^a + e^{-a}}$\n",
        "* nn.Softmax(): Función Softmax $Softmax(a) = \\frac{e^a}{\\sum_c e^c}$ \n",
        "* nn.ReLU(): Función de regularización lineal $ReLU(a) = \\max\\{0, a\\}$\n",
        "* nn.Softplus(): Función Softplus $softplus(a) = \\log(1 + e^a)$"
      ]
    },
    {
      "cell_type": "code",
      "metadata": {
        "id": "F5M3iOcj3PEm"
      },
      "source": [
        "#Definicióón de la arquitectura de la red\n",
        "neural_network = nn.Sequential(nn.Linear(d, m1), nn.Tanh(), nn.Linear(m1,m2), nn.Tanh(), nn.Linear(m2,m3), \n",
        "                               nn.Tanh(), nn.Linear(m3, m4), nn.Tanh()) #nn.Linear(m4, o), nn.Softmax(dim=1))\n",
        "\n",
        "#Se pueden separar las capas, o bien poner en un solo Sequential\n",
        "out = nn.Sequential(nn.Linear(m4, o), nn.Softmax(dim=1))\n",
        "\n",
        "#neural_network = nn.Sequential(nn.Linear(d, 3), nn.Tanh(), nn.Linear(3, o), nn.Softmax(dim=1))"
      ],
      "execution_count": 4,
      "outputs": []
    },
    {
      "cell_type": "markdown",
      "metadata": {
        "id": "bfgBLREg-8t6"
      },
      "source": [
        "### Entrenamiento de la red\n",
        "\n",
        "El entrenamiento de la red con pytroch se realiza a partir de seleccionar funciones de pérdida y seleccionar el optimizador con el que trabajaremos. \n",
        "\n",
        "En primer lugar, definiremos los hiperparámetros (estos dependerán también del tipo de optimizador que utilicemos."
      ]
    },
    {
      "cell_type": "code",
      "metadata": {
        "id": "rvmAcQfS4yIG"
      },
      "source": [
        "#Rango de aprendizaje\n",
        "eta = 0.1\n",
        "#Núm. máximo de iteraciones\n",
        "max_it = 1000"
      ],
      "execution_count": 5,
      "outputs": []
    },
    {
      "cell_type": "markdown",
      "metadata": {
        "id": "zt6IOMxV_Y_z"
      },
      "source": [
        "Ahora definiremos la función de riesgo. En este caso, utilizaremos la entropía cruzada (nn.CrossEntropyLoss()), pero se peuden definir otras funciones de riesgo (como el error cuadrático nn.MSELoss o la divergencia KL nn.KLDivLoss).\n",
        "\n",
        "Asimismo, definiremos el optimizador, que es el gradiente descendiente estocástico. Aunque también cuenta con otras optimizadores (Adam, Adadelta, Adagrad, RMSProp)."
      ]
    },
    {
      "cell_type": "code",
      "metadata": {
        "id": "YiwGqj8o4EvA"
      },
      "source": [
        "#Función de riesgo a optimizar\n",
        "risk = nn.CrossEntropyLoss()\n",
        "#Optimizador, se indica qué parámetros se aprenderán y los hiperparámetros \n",
        "#del optimizador\n",
        "optimizer = torch.optim.SGD(list(neural_network.parameters())+list(out.parameters()), lr=eta)"
      ],
      "execution_count": 6,
      "outputs": []
    },
    {
      "cell_type": "markdown",
      "metadata": {
        "id": "RgBMzZFjAY7C"
      },
      "source": [
        "Una vez definido esto, podemos entrenar la red a partir de minimizar la función de riesgo con el método de backpropagation."
      ]
    },
    {
      "cell_type": "code",
      "metadata": {
        "id": "1Fv9g47k44r-"
      },
      "source": [
        "#Itera por el número de épocas\n",
        "for i in range(max_it):\n",
        "  #Lleva los gradientes a 0\n",
        "  optimizer.zero_grad()\n",
        "  #Aplica la red con los parámetros actuales\n",
        "  Y_hat = out(neural_network(X))\n",
        "  #Evalua el riesgo con la red en el \n",
        "  #estado actual\n",
        "  loss = risk(Y_hat, Y)\n",
        "  #Retropropaga el error\n",
        "  loss.backward()\n",
        "  optimizer.step()"
      ],
      "execution_count": 7,
      "outputs": []
    },
    {
      "cell_type": "markdown",
      "metadata": {
        "id": "GrTjB5yLA8jL"
      },
      "source": [
        "Finalmente, podemos evaluar la red en los datos o en datos nuevos para obtener una clasificación."
      ]
    },
    {
      "cell_type": "code",
      "metadata": {
        "id": "VUHefIUA5Xqc"
      },
      "source": [
        "def forward(X):\n",
        "  probs = neural_network(X)\n",
        "  return torch.argmax(probs, axis=1)"
      ],
      "execution_count": 8,
      "outputs": []
    },
    {
      "cell_type": "code",
      "metadata": {
        "colab": {
          "base_uri": "https://localhost:8080/",
          "height": 298
        },
        "id": "3iS__jgR5pcB",
        "outputId": "ff96c169-5897-4736-b329-fd953660cff0"
      },
      "source": [
        "print(forward(X))\n",
        "\n",
        "plt.scatter(X[:,0], X[:,1], c=forward(X))\n",
        "plt.title('Clasificación con la red estimada')\n",
        "plt.show()"
      ],
      "execution_count": 9,
      "outputs": [
        {
          "output_type": "stream",
          "text": [
            "tensor([1, 1, 0, 0])\n"
          ],
          "name": "stdout"
        },
        {
          "output_type": "display_data",
          "data": {
            "image/png": "[encoded data removed]",
            "text/plain": [
              "<Figure size 432x288 with 1 Axes>"
            ]
          },
          "metadata": {
            "tags": [],
            "needs_background": "light"
          }
        }
      ]
    },
    {
      "cell_type": "markdown",
      "metadata": {
        "id": "BE_DZ_aBCKvs"
      },
      "source": [
        "### ¿Qué aprende la red?\n",
        "\n",
        "Podemos explorar los datos de la red, por ejemplo, podemos observar qué transformación se realiza en la última capa oculta; es decir, antes de aplicar la capa de salida."
      ]
    },
    {
      "cell_type": "code",
      "metadata": {
        "colab": {
          "base_uri": "https://localhost:8080/",
          "height": 281
        },
        "id": "75GThVh-BdpA",
        "outputId": "4f114f08-df5b-4610-ef86-8c0c8a1c988a"
      },
      "source": [
        "#Transformación de los datos\n",
        "pre_out = neural_network(X).detach()\n",
        "\n",
        "#Visualización de la transformación\n",
        "plt.scatter(pre_out[:,0], pre_out[:,1], c=Y)\n",
        "plt.title('Transformación de los datos en la última capa oculta')\n",
        "plt.show()"
      ],
      "execution_count": 10,
      "outputs": [
        {
          "output_type": "display_data",
          "data": {
            "image/png": "[encoded data removed]",
            "text/plain": [
              "<Figure size 432x288 with 1 Axes>"
            ]
          },
          "metadata": {
            "tags": [],
            "needs_background": "light"
          }
        }
      ]
    },
    {
      "cell_type": "markdown",
      "metadata": {
        "id": "6S0XsAh7CfZT"
      },
      "source": [
        "También podemos visualizar la forma en que la red, en la capa de salida) clasifica los datos. Como hemos visto, la capa de salida toma la última capa oculta (donde los datos son linealmente separables) y define un hiperplano que permita clasificar los datos (o estimar sus probabilidades)."
      ]
    },
    {
      "cell_type": "code",
      "metadata": {
        "colab": {
          "base_uri": "https://localhost:8080/",
          "height": 350
        },
        "id": "C-jdaVzTCqvY",
        "outputId": "63b9e79b-2478-43dc-a13f-9fd6bdd9e3ab"
      },
      "source": [
        "w,b = list(out.parameters())\n",
        "print(w,b)\n",
        "\n",
        "#Puntos extremos de la recta\n",
        "xs = [1, -b[0]/w[0,0]]\n",
        "ys = [-b[0]/w[0,1], 1]\n",
        "\n",
        "#Recta de decisión\n",
        "plt.plot(xs,ys,'k-')\n",
        "#Ploteo\n",
        "plt.scatter(pre_out[:,0], pre_out[:,1], c=Y)\n",
        "plt.title('Clasificación en la capa de salida')\n",
        "plt.show()"
      ],
      "execution_count": 12,
      "outputs": [
        {
          "output_type": "stream",
          "text": [
            "Parameter containing:\n",
            "tensor([[-1.5310, -1.4962],\n",
            "        [ 1.1066,  1.5932]], requires_grad=True) Parameter containing:\n",
            "tensor([-0.2123,  0.1308], requires_grad=True)\n"
          ],
          "name": "stdout"
        },
        {
          "output_type": "display_data",
          "data": {
            "image/png": "[encoded data removed]",
            "text/plain": [
              "<Figure size 432x288 with 1 Axes>"
            ]
          },
          "metadata": {
            "tags": [],
            "needs_background": "light"
          }
        }
      ]
    }
  ]
}
